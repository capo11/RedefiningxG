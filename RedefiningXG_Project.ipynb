{
  "nbformat": 4,
  "nbformat_minor": 0,
  "metadata": {
    "colab": {
      "provenance": []
    },
    "kernelspec": {
      "name": "python3",
      "display_name": "Python 3"
    },
    "language_info": {
      "name": "python"
    }
  },
  "cells": [
    {
      "cell_type": "markdown",
      "source": [
        "# Redefining xG\n",
        "This project aims to **\"redefine\" the Expected Goal index** (also known as *xG*), allowing to **create an index which takes more information into account when deciding the probability of scoring a goal**.\n",
        "\n",
        "In this notebook, informations about games and players are taken from different sources, and joined in a dataset, which includes detailed info about **2 seasons of Serie A football (2022/23 and 2023/24 season)**. The dataset includes **player-related features**, like the attacker's **shot rating** and the goalkeeper's **overall rating**, and **contextual features**, like the shot's **body part** or the **goal difference** between the teams at the time of the shot.\n",
        "\n",
        "This dataset is then used to train a model, using different algorithms, like *XGBoost* or *Random Forest*, or *ensemble methods* like *AdaBoost*. **Data Augmentation** techniques, like *Random Oversampling*, *SMOTE* or *ADASYN* have also been used to test if the model would benefit from having a more balanced dataset.\n",
        "\n",
        "Other techniques have been used to analyse the model's performance or to improve them, respectively **Cross Validation** (in a *stratified* manner, to keep the folds balanced), and **Parameter Tuning**, to look for a model that could reach a better *f1 score*.\n",
        "\n",
        "The model's output has been confronted with the xG values produced by a \"competitor\", *SofaScore*, in order to have a measure of quality for the model's predictions, as **the classic evaluation metrics**, like *precision*, *recall* or *f1 score*, **couldn't reflect the real quality of the model**, since they were based on the binary classifications, instead of the probabilities predicted by the model. For this reason, this notebook tries to reach xG numbers that get close to the competitor one, with **the target being the number of goals scored in the test dataset**.\n",
        "\n",
        "Eventually, the model has been analysed by looking at **feature importance** by looking at the *Shapley values*, in order to have a global view of the \"reasoning\" behind the model's predictions, but also to **have a specific explanation of a single prediction**, being able to **understand which features influence a specific prediction for a specific shot**."
      ],
      "metadata": {
        "id": "8lcKvdtFiyUn"
      }
    },
    {
      "cell_type": "markdown",
      "source": [
        "0) **Installing and Importing Libraries**"
      ],
      "metadata": {
        "id": "L7sUmrhkpgGh"
      }
    },
    {
      "cell_type": "code",
      "source": [
        "%pip install html_to_json\n",
        "%pip install soccerdata\n",
        "%pip install shap"
      ],
      "metadata": {
        "colab": {
          "base_uri": "https://localhost:8080/"
        },
        "id": "DLqNppIgpO0P",
        "outputId": "d17a5199-1dcd-4671-8221-d32d877d4a74"
      },
      "execution_count": 1,
      "outputs": [
        {
          "output_type": "stream",
          "name": "stdout",
          "text": [
            "Collecting html_to_json\n",
            "  Downloading html_to_json-2.0.0-py2.py3-none-any.whl.metadata (5.2 kB)\n",
            "Collecting bs4 (from html_to_json)\n",
            "  Downloading bs4-0.0.2-py2.py3-none-any.whl.metadata (411 bytes)\n",
            "Requirement already satisfied: beautifulsoup4 in /usr/local/lib/python3.10/dist-packages (from bs4->html_to_json) (4.12.3)\n",
            "Requirement already satisfied: soupsieve>1.2 in /usr/local/lib/python3.10/dist-packages (from beautifulsoup4->bs4->html_to_json) (2.6)\n",
            "Downloading html_to_json-2.0.0-py2.py3-none-any.whl (6.4 kB)\n",
            "Downloading bs4-0.0.2-py2.py3-none-any.whl (1.2 kB)\n",
            "Installing collected packages: bs4, html_to_json\n",
            "Successfully installed bs4-0.0.2 html_to_json-2.0.0\n",
            "Collecting soccerdata\n",
            "  Downloading soccerdata-1.8.4-py3-none-any.whl.metadata (5.6 kB)\n",
            "Requirement already satisfied: PySocks<2.0.0,>=1.7.1 in /usr/local/lib/python3.10/dist-packages (from soccerdata) (1.7.1)\n",
            "Collecting Unidecode<2.0.0,>=1.2.0 (from soccerdata)\n",
            "  Downloading Unidecode-1.3.8-py3-none-any.whl.metadata (13 kB)\n",
            "Collecting cloudscraper<2.0.0,>=1.2.71 (from soccerdata)\n",
            "  Downloading cloudscraper-1.2.71-py2.py3-none-any.whl.metadata (19 kB)\n",
            "Requirement already satisfied: html5lib<2.0,>=1.1 in /usr/local/lib/python3.10/dist-packages (from soccerdata) (1.1)\n",
            "Collecting lxml<5.0.0,>=4.9.3 (from soccerdata)\n",
            "  Downloading lxml-4.9.4-cp310-cp310-manylinux_2_28_x86_64.whl.metadata (3.7 kB)\n",
            "Requirement already satisfied: packaging<25.0,>=24.1 in /usr/local/lib/python3.10/dist-packages (from soccerdata) (24.2)\n",
            "Requirement already satisfied: pandas!=2.1.0,<3.0.0,>=2.0.0 in /usr/local/lib/python3.10/dist-packages (from soccerdata) (2.2.2)\n",
            "Requirement already satisfied: requests<3.0,>=2.23 in /usr/local/lib/python3.10/dist-packages (from soccerdata) (2.32.3)\n",
            "Requirement already satisfied: rich<14.0.0,>=13.0.0 in /usr/local/lib/python3.10/dist-packages (from soccerdata) (13.9.4)\n",
            "Collecting undetected-chromedriver<4.0.0,>=3.5.0 (from soccerdata)\n",
            "  Downloading undetected-chromedriver-3.5.5.tar.gz (65 kB)\n",
            "\u001b[2K     \u001b[90m━━━━━━━━━━━━━━━━━━━━━━━━━━━━━━━━━━━━━━━━\u001b[0m \u001b[32m65.4/65.4 kB\u001b[0m \u001b[31m3.4 MB/s\u001b[0m eta \u001b[36m0:00:00\u001b[0m\n",
            "\u001b[?25h  Preparing metadata (setup.py) ... \u001b[?25l\u001b[?25hdone\n",
            "Collecting unicode<3.0,>=2.7 (from soccerdata)\n",
            "  Downloading unicode-2.9-py2.py3-none-any.whl.metadata (1.1 kB)\n",
            "Requirement already satisfied: pyparsing>=2.4.7 in /usr/local/lib/python3.10/dist-packages (from cloudscraper<2.0.0,>=1.2.71->soccerdata) (3.2.0)\n",
            "Requirement already satisfied: requests-toolbelt>=0.9.1 in /usr/local/lib/python3.10/dist-packages (from cloudscraper<2.0.0,>=1.2.71->soccerdata) (1.0.0)\n",
            "Requirement already satisfied: six>=1.9 in /usr/local/lib/python3.10/dist-packages (from html5lib<2.0,>=1.1->soccerdata) (1.17.0)\n",
            "Requirement already satisfied: webencodings in /usr/local/lib/python3.10/dist-packages (from html5lib<2.0,>=1.1->soccerdata) (0.5.1)\n",
            "Requirement already satisfied: numpy>=1.22.4 in /usr/local/lib/python3.10/dist-packages (from pandas!=2.1.0,<3.0.0,>=2.0.0->soccerdata) (1.26.4)\n",
            "Requirement already satisfied: python-dateutil>=2.8.2 in /usr/local/lib/python3.10/dist-packages (from pandas!=2.1.0,<3.0.0,>=2.0.0->soccerdata) (2.8.2)\n",
            "Requirement already satisfied: pytz>=2020.1 in /usr/local/lib/python3.10/dist-packages (from pandas!=2.1.0,<3.0.0,>=2.0.0->soccerdata) (2024.2)\n",
            "Requirement already satisfied: tzdata>=2022.7 in /usr/local/lib/python3.10/dist-packages (from pandas!=2.1.0,<3.0.0,>=2.0.0->soccerdata) (2024.2)\n",
            "Requirement already satisfied: charset-normalizer<4,>=2 in /usr/local/lib/python3.10/dist-packages (from requests<3.0,>=2.23->soccerdata) (3.4.0)\n",
            "Requirement already satisfied: idna<4,>=2.5 in /usr/local/lib/python3.10/dist-packages (from requests<3.0,>=2.23->soccerdata) (3.10)\n",
            "Requirement already satisfied: urllib3<3,>=1.21.1 in /usr/local/lib/python3.10/dist-packages (from requests<3.0,>=2.23->soccerdata) (2.2.3)\n",
            "Requirement already satisfied: certifi>=2017.4.17 in /usr/local/lib/python3.10/dist-packages (from requests<3.0,>=2.23->soccerdata) (2024.12.14)\n",
            "Requirement already satisfied: markdown-it-py>=2.2.0 in /usr/local/lib/python3.10/dist-packages (from rich<14.0.0,>=13.0.0->soccerdata) (3.0.0)\n",
            "Requirement already satisfied: pygments<3.0.0,>=2.13.0 in /usr/local/lib/python3.10/dist-packages (from rich<14.0.0,>=13.0.0->soccerdata) (2.18.0)\n",
            "Requirement already satisfied: typing-extensions<5.0,>=4.0.0 in /usr/local/lib/python3.10/dist-packages (from rich<14.0.0,>=13.0.0->soccerdata) (4.12.2)\n",
            "Collecting selenium>=4.9.0 (from undetected-chromedriver<4.0.0,>=3.5.0->soccerdata)\n",
            "  Downloading selenium-4.27.1-py3-none-any.whl.metadata (7.1 kB)\n",
            "Requirement already satisfied: websockets in /usr/local/lib/python3.10/dist-packages (from undetected-chromedriver<4.0.0,>=3.5.0->soccerdata) (14.1)\n",
            "Requirement already satisfied: mdurl~=0.1 in /usr/local/lib/python3.10/dist-packages (from markdown-it-py>=2.2.0->rich<14.0.0,>=13.0.0->soccerdata) (0.1.2)\n",
            "Collecting trio~=0.17 (from selenium>=4.9.0->undetected-chromedriver<4.0.0,>=3.5.0->soccerdata)\n",
            "  Downloading trio-0.28.0-py3-none-any.whl.metadata (8.5 kB)\n",
            "Collecting trio-websocket~=0.9 (from selenium>=4.9.0->undetected-chromedriver<4.0.0,>=3.5.0->soccerdata)\n",
            "  Downloading trio_websocket-0.11.1-py3-none-any.whl.metadata (4.7 kB)\n",
            "Requirement already satisfied: websocket-client~=1.8 in /usr/local/lib/python3.10/dist-packages (from selenium>=4.9.0->undetected-chromedriver<4.0.0,>=3.5.0->soccerdata) (1.8.0)\n",
            "Requirement already satisfied: attrs>=23.2.0 in /usr/local/lib/python3.10/dist-packages (from trio~=0.17->selenium>=4.9.0->undetected-chromedriver<4.0.0,>=3.5.0->soccerdata) (24.3.0)\n",
            "Collecting sortedcontainers (from trio~=0.17->selenium>=4.9.0->undetected-chromedriver<4.0.0,>=3.5.0->soccerdata)\n",
            "  Downloading sortedcontainers-2.4.0-py2.py3-none-any.whl.metadata (10 kB)\n",
            "Collecting outcome (from trio~=0.17->selenium>=4.9.0->undetected-chromedriver<4.0.0,>=3.5.0->soccerdata)\n",
            "  Downloading outcome-1.3.0.post0-py2.py3-none-any.whl.metadata (2.6 kB)\n",
            "Requirement already satisfied: sniffio>=1.3.0 in /usr/local/lib/python3.10/dist-packages (from trio~=0.17->selenium>=4.9.0->undetected-chromedriver<4.0.0,>=3.5.0->soccerdata) (1.3.1)\n",
            "Requirement already satisfied: exceptiongroup in /usr/local/lib/python3.10/dist-packages (from trio~=0.17->selenium>=4.9.0->undetected-chromedriver<4.0.0,>=3.5.0->soccerdata) (1.2.2)\n",
            "Collecting wsproto>=0.14 (from trio-websocket~=0.9->selenium>=4.9.0->undetected-chromedriver<4.0.0,>=3.5.0->soccerdata)\n",
            "  Downloading wsproto-1.2.0-py3-none-any.whl.metadata (5.6 kB)\n",
            "Requirement already satisfied: h11<1,>=0.9.0 in /usr/local/lib/python3.10/dist-packages (from wsproto>=0.14->trio-websocket~=0.9->selenium>=4.9.0->undetected-chromedriver<4.0.0,>=3.5.0->soccerdata) (0.14.0)\n",
            "Downloading soccerdata-1.8.4-py3-none-any.whl (57 kB)\n",
            "\u001b[2K   \u001b[90m━━━━━━━━━━━━━━━━━━━━━━━━━━━━━━━━━━━━━━━━\u001b[0m \u001b[32m57.5/57.5 kB\u001b[0m \u001b[31m2.4 MB/s\u001b[0m eta \u001b[36m0:00:00\u001b[0m\n",
            "\u001b[?25hDownloading cloudscraper-1.2.71-py2.py3-none-any.whl (99 kB)\n",
            "\u001b[2K   \u001b[90m━━━━━━━━━━━━━━━━━━━━━━━━━━━━━━━━━━━━━━━━\u001b[0m \u001b[32m99.7/99.7 kB\u001b[0m \u001b[31m3.2 MB/s\u001b[0m eta \u001b[36m0:00:00\u001b[0m\n",
            "\u001b[?25hDownloading lxml-4.9.4-cp310-cp310-manylinux_2_28_x86_64.whl (7.9 MB)\n",
            "\u001b[2K   \u001b[90m━━━━━━━━━━━━━━━━━━━━━━━━━━━━━━━━━━━━━━━━\u001b[0m \u001b[32m7.9/7.9 MB\u001b[0m \u001b[31m18.0 MB/s\u001b[0m eta \u001b[36m0:00:00\u001b[0m\n",
            "\u001b[?25hDownloading unicode-2.9-py2.py3-none-any.whl (14 kB)\n",
            "Downloading Unidecode-1.3.8-py3-none-any.whl (235 kB)\n",
            "\u001b[2K   \u001b[90m━━━━━━━━━━━━━━━━━━━━━━━━━━━━━━━━━━━━━━━━\u001b[0m \u001b[32m235.5/235.5 kB\u001b[0m \u001b[31m15.9 MB/s\u001b[0m eta \u001b[36m0:00:00\u001b[0m\n",
            "\u001b[?25hDownloading selenium-4.27.1-py3-none-any.whl (9.7 MB)\n",
            "\u001b[2K   \u001b[90m━━━━━━━━━━━━━━━━━━━━━━━━━━━━━━━━━━━━━━━━\u001b[0m \u001b[32m9.7/9.7 MB\u001b[0m \u001b[31m27.6 MB/s\u001b[0m eta \u001b[36m0:00:00\u001b[0m\n",
            "\u001b[?25hDownloading trio-0.28.0-py3-none-any.whl (486 kB)\n",
            "\u001b[2K   \u001b[90m━━━━━━━━━━━━━━━━━━━━━━━━━━━━━━━━━━━━━━━━\u001b[0m \u001b[32m486.3/486.3 kB\u001b[0m \u001b[31m24.9 MB/s\u001b[0m eta \u001b[36m0:00:00\u001b[0m\n",
            "\u001b[?25hDownloading trio_websocket-0.11.1-py3-none-any.whl (17 kB)\n",
            "Downloading wsproto-1.2.0-py3-none-any.whl (24 kB)\n",
            "Downloading outcome-1.3.0.post0-py2.py3-none-any.whl (10 kB)\n",
            "Downloading sortedcontainers-2.4.0-py2.py3-none-any.whl (29 kB)\n",
            "Building wheels for collected packages: undetected-chromedriver\n",
            "  Building wheel for undetected-chromedriver (setup.py) ... \u001b[?25l\u001b[?25hdone\n",
            "  Created wheel for undetected-chromedriver: filename=undetected_chromedriver-3.5.5-py3-none-any.whl size=47048 sha256=e12e024e07e3b83c546b8229314d4bd9e5bdf2755b2ae0f654a0630670847e49\n",
            "  Stored in directory: /root/.cache/pip/wheels/cf/a1/db/e1275b6f7259aacd6b045f8bfcb1fcbc93827a3916ba55d5b7\n",
            "Successfully built undetected-chromedriver\n",
            "Installing collected packages: unicode, sortedcontainers, wsproto, Unidecode, outcome, lxml, trio, trio-websocket, cloudscraper, selenium, undetected-chromedriver, soccerdata\n",
            "  Attempting uninstall: lxml\n",
            "    Found existing installation: lxml 5.3.0\n",
            "    Uninstalling lxml-5.3.0:\n",
            "      Successfully uninstalled lxml-5.3.0\n",
            "Successfully installed Unidecode-1.3.8 cloudscraper-1.2.71 lxml-4.9.4 outcome-1.3.0.post0 selenium-4.27.1 soccerdata-1.8.4 sortedcontainers-2.4.0 trio-0.28.0 trio-websocket-0.11.1 undetected-chromedriver-3.5.5 unicode-2.9 wsproto-1.2.0\n",
            "Requirement already satisfied: shap in /usr/local/lib/python3.10/dist-packages (0.46.0)\n",
            "Requirement already satisfied: numpy in /usr/local/lib/python3.10/dist-packages (from shap) (1.26.4)\n",
            "Requirement already satisfied: scipy in /usr/local/lib/python3.10/dist-packages (from shap) (1.13.1)\n",
            "Requirement already satisfied: scikit-learn in /usr/local/lib/python3.10/dist-packages (from shap) (1.6.0)\n",
            "Requirement already satisfied: pandas in /usr/local/lib/python3.10/dist-packages (from shap) (2.2.2)\n",
            "Requirement already satisfied: tqdm>=4.27.0 in /usr/local/lib/python3.10/dist-packages (from shap) (4.67.1)\n",
            "Requirement already satisfied: packaging>20.9 in /usr/local/lib/python3.10/dist-packages (from shap) (24.2)\n",
            "Requirement already satisfied: slicer==0.0.8 in /usr/local/lib/python3.10/dist-packages (from shap) (0.0.8)\n",
            "Requirement already satisfied: numba in /usr/local/lib/python3.10/dist-packages (from shap) (0.60.0)\n",
            "Requirement already satisfied: cloudpickle in /usr/local/lib/python3.10/dist-packages (from shap) (3.1.0)\n",
            "Requirement already satisfied: llvmlite<0.44,>=0.43.0dev0 in /usr/local/lib/python3.10/dist-packages (from numba->shap) (0.43.0)\n",
            "Requirement already satisfied: python-dateutil>=2.8.2 in /usr/local/lib/python3.10/dist-packages (from pandas->shap) (2.8.2)\n",
            "Requirement already satisfied: pytz>=2020.1 in /usr/local/lib/python3.10/dist-packages (from pandas->shap) (2024.2)\n",
            "Requirement already satisfied: tzdata>=2022.7 in /usr/local/lib/python3.10/dist-packages (from pandas->shap) (2024.2)\n",
            "Requirement already satisfied: joblib>=1.2.0 in /usr/local/lib/python3.10/dist-packages (from scikit-learn->shap) (1.4.2)\n",
            "Requirement already satisfied: threadpoolctl>=3.1.0 in /usr/local/lib/python3.10/dist-packages (from scikit-learn->shap) (3.5.0)\n",
            "Requirement already satisfied: six>=1.5 in /usr/local/lib/python3.10/dist-packages (from python-dateutil>=2.8.2->pandas->shap) (1.17.0)\n"
          ]
        }
      ]
    },
    {
      "cell_type": "code",
      "source": [
        "import requests # necessary for scraping\n",
        "from bs4 import BeautifulSoup # necessary for scraping\n",
        "import html_to_json # necessary for scraping\n",
        "import json # necessary for scraping\n",
        "import pandas as pd\n",
        "import numpy as np\n",
        "from datetime import datetime, date, timedelta  # necessary to find FIFA's version\n",
        "baseUrl = \"https://www.sofascore.com/api/v1/event/\" # necessary for scraping\n",
        "basePath = \"/content/drive/MyDrive/AI/\"\n",
        "import math\n",
        "import unidecode # necessary to avoid accents and special characters in players' names\n",
        "import soccerdata as sd\n",
        "from google.colab import drive\n",
        "drive.mount('/content/drive')\n",
        "from google.colab import output\n",
        "from selenium.webdriver.common.by import By\n",
        "from imblearn.over_sampling import RandomOverSampler, SMOTE, ADASYN\n",
        "from imblearn.under_sampling import RandomUnderSampler\n",
        "from sklearn.metrics import roc_auc_score, precision_score, recall_score, f1_score, matthews_corrcoef\n",
        "from xgboost import XGBClassifier, plot_importance\n",
        "from sklearn.ensemble import RandomForestClassifier, AdaBoostClassifier\n",
        "from sklearn.model_selection import train_test_split\n",
        "import joblib\n",
        "from sklearn.model_selection import StratifiedKFold\n",
        "import matplotlib.pyplot as plt\n",
        "from sklearn.model_selection import GridSearchCV\n",
        "import shap\n",
        "pd.options.mode.chained_assignment = None\n"
      ],
      "metadata": {
        "colab": {
          "base_uri": "https://localhost:8080/",
          "height": 101
        },
        "id": "cKwvKPzBpEDQ",
        "outputId": "4e311edd-6df1-4711-d183-1c3e2af5974d"
      },
      "execution_count": 2,
      "outputs": [
        {
          "output_type": "display_data",
          "data": {
            "text/plain": [
              "\u001b[2;36m[01/07/25 17:22:11]\u001b[0m\u001b[2;36m \u001b[0m\u001b[34mINFO    \u001b[0m No custom team name replacements found. You can configure these in       \u001b]8;id=559673;file:///usr/local/lib/python3.10/dist-packages/soccerdata/_config.py\u001b\\\u001b[2m_config.py\u001b[0m\u001b]8;;\u001b\\\u001b[2m:\u001b[0m\u001b]8;id=825499;file:///usr/local/lib/python3.10/dist-packages/soccerdata/_config.py#90\u001b\\\u001b[2m90\u001b[0m\u001b]8;;\u001b\\\n",
              "\u001b[2;36m                    \u001b[0m         \u001b[35m/root/soccerdata/config/\u001b[0m\u001b[95mteamname_replacements.json.\u001b[0m                      \u001b[2m             \u001b[0m\n"
            ],
            "text/html": [
              "<pre style=\"white-space:pre;overflow-x:auto;line-height:normal;font-family:Menlo,'DejaVu Sans Mono',consolas,'Courier New',monospace\"><span style=\"color: #7fbfbf; text-decoration-color: #7fbfbf\">[01/07/25 17:22:11] </span><span style=\"color: #000080; text-decoration-color: #000080\">INFO    </span> No custom team name replacements found. You can configure these in       <a href=\"file:///usr/local/lib/python3.10/dist-packages/soccerdata/_config.py\" target=\"_blank\"><span style=\"color: #7f7f7f; text-decoration-color: #7f7f7f\">_config.py</span></a><span style=\"color: #7f7f7f; text-decoration-color: #7f7f7f\">:</span><a href=\"file:///usr/local/lib/python3.10/dist-packages/soccerdata/_config.py#90\" target=\"_blank\"><span style=\"color: #7f7f7f; text-decoration-color: #7f7f7f\">90</span></a>\n",
              "<span style=\"color: #7fbfbf; text-decoration-color: #7fbfbf\">                    </span>         <span style=\"color: #800080; text-decoration-color: #800080\">/root/soccerdata/config/</span><span style=\"color: #ff00ff; text-decoration-color: #ff00ff\">teamname_replacements.json.</span>                      <span style=\"color: #7f7f7f; text-decoration-color: #7f7f7f\">             </span>\n",
              "</pre>\n"
            ]
          },
          "metadata": {}
        },
        {
          "output_type": "display_data",
          "data": {
            "text/plain": [
              "\u001b[2;36m                   \u001b[0m\u001b[2;36m \u001b[0m\u001b[34mINFO    \u001b[0m No custom league dict found. You can configure additional leagues in    \u001b]8;id=720794;file:///usr/local/lib/python3.10/dist-packages/soccerdata/_config.py\u001b\\\u001b[2m_config.py\u001b[0m\u001b]8;;\u001b\\\u001b[2m:\u001b[0m\u001b]8;id=197001;file:///usr/local/lib/python3.10/dist-packages/soccerdata/_config.py#196\u001b\\\u001b[2m196\u001b[0m\u001b]8;;\u001b\\\n",
              "\u001b[2;36m                    \u001b[0m         \u001b[35m/root/soccerdata/config/\u001b[0m\u001b[95mleague_dict.json.\u001b[0m                               \u001b[2m              \u001b[0m\n"
            ],
            "text/html": [
              "<pre style=\"white-space:pre;overflow-x:auto;line-height:normal;font-family:Menlo,'DejaVu Sans Mono',consolas,'Courier New',monospace\"><span style=\"color: #7fbfbf; text-decoration-color: #7fbfbf\">                    </span><span style=\"color: #000080; text-decoration-color: #000080\">INFO    </span> No custom league dict found. You can configure additional leagues in    <a href=\"file:///usr/local/lib/python3.10/dist-packages/soccerdata/_config.py\" target=\"_blank\"><span style=\"color: #7f7f7f; text-decoration-color: #7f7f7f\">_config.py</span></a><span style=\"color: #7f7f7f; text-decoration-color: #7f7f7f\">:</span><a href=\"file:///usr/local/lib/python3.10/dist-packages/soccerdata/_config.py#196\" target=\"_blank\"><span style=\"color: #7f7f7f; text-decoration-color: #7f7f7f\">196</span></a>\n",
              "<span style=\"color: #7fbfbf; text-decoration-color: #7fbfbf\">                    </span>         <span style=\"color: #800080; text-decoration-color: #800080\">/root/soccerdata/config/</span><span style=\"color: #ff00ff; text-decoration-color: #ff00ff\">league_dict.json.</span>                               <span style=\"color: #7f7f7f; text-decoration-color: #7f7f7f\">              </span>\n",
              "</pre>\n"
            ]
          },
          "metadata": {}
        },
        {
          "output_type": "stream",
          "name": "stdout",
          "text": [
            "Drive already mounted at /content/drive; to attempt to forcibly remount, call drive.mount(\"/content/drive\", force_remount=True).\n"
          ]
        }
      ]
    },
    {
      "cell_type": "markdown",
      "source": [
        "0.5) **Installing Selenium**: *Selenium* is necessary to send requests without having issues related to data inconsistency or network denials."
      ],
      "metadata": {
        "id": "LM-ZoMiXp22L"
      }
    },
    {
      "cell_type": "code",
      "source": [
        "%%shell\n",
        "sudo apt -y update\n",
        "sudo apt install -y wget curl unzip\n",
        "wget http://archive.ubuntu.com/ubuntu/pool/main/libu/libu2f-host/libu2f-udev_1.1.4-1_all.deb\n",
        "dpkg -i libu2f-udev_1.1.4-1_all.deb\n",
        "wget https://dl.google.com/linux/direct/google-chrome-stable_current_amd64.deb\n",
        "dpkg -i google-chrome-stable_current_amd64.deb\n",
        "CHROME_DRIVER_VERSION=`curl -sS chromedriver.storage.googleapis.com/LATEST_RELEASE`\n",
        "wget -N https://chromedriver.storage.googleapis.com/$CHROME_DRIVER_VERSION/chromedriver_linux64.zip -P /tmp/\n",
        "unzip -o /tmp/chromedriver_linux64.zip -d /tmp/\n",
        "chmod +x /tmp/chromedriver\n",
        "mv /tmp/chromedriver /usr/local/bin/chromedriver\n",
        "pip install selenium"
      ],
      "metadata": {
        "colab": {
          "base_uri": "https://localhost:8080/"
        },
        "id": "O1lPMWAXqFVQ",
        "outputId": "e45c77da-4ecc-4298-9083-1b33e81c079c"
      },
      "execution_count": 3,
      "outputs": [
        {
          "output_type": "stream",
          "name": "stdout",
          "text": [
            "Get:1 https://cloud.r-project.org/bin/linux/ubuntu jammy-cran40/ InRelease [3,626 B]\n",
            "Get:2 https://developer.download.nvidia.com/compute/cuda/repos/ubuntu2204/x86_64  InRelease [1,581 B]\n",
            "Get:3 https://r2u.stat.illinois.edu/ubuntu jammy InRelease [6,555 B]\n",
            "Get:4 https://cloud.r-project.org/bin/linux/ubuntu jammy-cran40/ Packages [61.7 kB]\n",
            "Get:5 http://security.ubuntu.com/ubuntu jammy-security InRelease [129 kB]\n",
            "Hit:6 http://archive.ubuntu.com/ubuntu jammy InRelease\n",
            "Get:7 https://developer.download.nvidia.com/compute/cuda/repos/ubuntu2204/x86_64  Packages [1,199 kB]\n",
            "Get:8 http://archive.ubuntu.com/ubuntu jammy-updates InRelease [128 kB]\n",
            "Get:9 https://r2u.stat.illinois.edu/ubuntu jammy/main amd64 Packages [2,631 kB]\n",
            "Hit:10 https://ppa.launchpadcontent.net/deadsnakes/ppa/ubuntu jammy InRelease\n",
            "Hit:11 https://ppa.launchpadcontent.net/graphics-drivers/ppa/ubuntu jammy InRelease\n",
            "Hit:12 https://ppa.launchpadcontent.net/ubuntugis/ppa/ubuntu jammy InRelease\n",
            "Get:13 http://archive.ubuntu.com/ubuntu jammy-backports InRelease [127 kB]\n",
            "Get:14 http://security.ubuntu.com/ubuntu jammy-security/universe amd64 Packages [1,226 kB]\n",
            "Get:15 http://archive.ubuntu.com/ubuntu jammy-updates/universe amd64 Packages [1,517 kB]\n",
            "Get:16 http://security.ubuntu.com/ubuntu jammy-security/main amd64 Packages [2,554 kB]\n",
            "Get:17 http://security.ubuntu.com/ubuntu jammy-security/restricted amd64 Packages [3,513 kB]\n",
            "Get:18 http://archive.ubuntu.com/ubuntu jammy-updates/main amd64 Packages [2,854 kB]\n",
            "Get:19 http://archive.ubuntu.com/ubuntu jammy-updates/restricted amd64 Packages [3,652 kB]\n",
            "Fetched 19.6 MB in 4s (4,747 kB/s)\n",
            "Reading package lists... Done\n",
            "Building dependency tree... Done\n",
            "Reading state information... Done\n",
            "52 packages can be upgraded. Run 'apt list --upgradable' to see them.\n",
            "\u001b[1;33mW: \u001b[0mSkipping acquire of configured file 'main/source/Sources' as repository 'https://r2u.stat.illinois.edu/ubuntu jammy InRelease' does not seem to provide it (sources.list entry misspelt?)\u001b[0m\n",
            "Reading package lists... Done\n",
            "Building dependency tree... Done\n",
            "Reading state information... Done\n",
            "curl is already the newest version (7.81.0-1ubuntu1.20).\n",
            "unzip is already the newest version (6.0-26ubuntu3.2).\n",
            "wget is already the newest version (1.21.2-2ubuntu1.1).\n",
            "0 upgraded, 0 newly installed, 0 to remove and 52 not upgraded.\n",
            "--2025-01-07 17:22:55--  http://archive.ubuntu.com/ubuntu/pool/main/libu/libu2f-host/libu2f-udev_1.1.4-1_all.deb\n",
            "Resolving archive.ubuntu.com (archive.ubuntu.com)... 185.125.190.83, 185.125.190.82, 91.189.91.81, ...\n",
            "Connecting to archive.ubuntu.com (archive.ubuntu.com)|185.125.190.83|:80... connected.\n",
            "HTTP request sent, awaiting response... 200 OK\n",
            "Length: 3708 (3.6K) [application/vnd.debian.binary-package]\n",
            "Saving to: ‘libu2f-udev_1.1.4-1_all.deb’\n",
            "\n",
            "libu2f-udev_1.1.4-1 100%[===================>]   3.62K  --.-KB/s    in 0s      \n",
            "\n",
            "2025-01-07 17:22:56 (312 MB/s) - ‘libu2f-udev_1.1.4-1_all.deb’ saved [3708/3708]\n",
            "\n",
            "Selecting previously unselected package libu2f-udev.\n",
            "(Reading database ... 123632 files and directories currently installed.)\n",
            "Preparing to unpack libu2f-udev_1.1.4-1_all.deb ...\n",
            "Unpacking libu2f-udev (1.1.4-1) ...\n",
            "Setting up libu2f-udev (1.1.4-1) ...\n",
            "--2025-01-07 17:22:57--  https://dl.google.com/linux/direct/google-chrome-stable_current_amd64.deb\n",
            "Resolving dl.google.com (dl.google.com)... 172.217.12.14, 2607:f8b0:4025:803::200e\n",
            "Connecting to dl.google.com (dl.google.com)|172.217.12.14|:443... connected.\n",
            "HTTP request sent, awaiting response... 200 OK\n",
            "Length: 112770956 (108M) [application/x-debian-package]\n",
            "Saving to: ‘google-chrome-stable_current_amd64.deb’\n",
            "\n",
            "google-chrome-stabl 100%[===================>] 107.55M  4.88MB/s    in 24s     \n",
            "\n",
            "2025-01-07 17:23:22 (4.49 MB/s) - ‘google-chrome-stable_current_amd64.deb’ saved [112770956/112770956]\n",
            "\n",
            "Selecting previously unselected package google-chrome-stable.\n",
            "(Reading database ... 123636 files and directories currently installed.)\n",
            "Preparing to unpack google-chrome-stable_current_amd64.deb ...\n",
            "Unpacking google-chrome-stable (131.0.6778.204-1) ...\n",
            "\u001b[1mdpkg:\u001b[0m dependency problems prevent configuration of google-chrome-stable:\n",
            " google-chrome-stable depends on libvulkan1; however:\n",
            "  Package libvulkan1 is not installed.\n",
            "\n",
            "\u001b[1mdpkg:\u001b[0m error processing package google-chrome-stable (--install):\n",
            " dependency problems - leaving unconfigured\n",
            "Processing triggers for man-db (2.10.2-1) ...\n",
            "Errors were encountered while processing:\n",
            " google-chrome-stable\n",
            "--2025-01-07 17:23:36--  https://chromedriver.storage.googleapis.com/114.0.5735.90/chromedriver_linux64.zip\n",
            "Resolving chromedriver.storage.googleapis.com (chromedriver.storage.googleapis.com)... 142.250.65.123, 172.217.15.251, 172.217.164.27, ...\n",
            "Connecting to chromedriver.storage.googleapis.com (chromedriver.storage.googleapis.com)|142.250.65.123|:443... connected.\n",
            "HTTP request sent, awaiting response... 200 OK\n",
            "Length: 7407250 (7.1M) [application/zip]\n",
            "Saving to: ‘/tmp/chromedriver_linux64.zip’\n",
            "\n",
            "chromedriver_linux6 100%[===================>]   7.06M  --.-KB/s    in 0.03s   \n",
            "\n",
            "2025-01-07 17:23:36 (281 MB/s) - ‘/tmp/chromedriver_linux64.zip’ saved [7407250/7407250]\n",
            "\n",
            "Archive:  /tmp/chromedriver_linux64.zip\n",
            "  inflating: /tmp/chromedriver       \n",
            "  inflating: /tmp/LICENSE.chromedriver  \n",
            "Requirement already satisfied: selenium in /usr/local/lib/python3.10/dist-packages (4.27.1)\n",
            "Requirement already satisfied: urllib3<3,>=1.26 in /usr/local/lib/python3.10/dist-packages (from urllib3[socks]<3,>=1.26->selenium) (2.2.3)\n",
            "Requirement already satisfied: trio~=0.17 in /usr/local/lib/python3.10/dist-packages (from selenium) (0.28.0)\n",
            "Requirement already satisfied: trio-websocket~=0.9 in /usr/local/lib/python3.10/dist-packages (from selenium) (0.11.1)\n",
            "Requirement already satisfied: certifi>=2021.10.8 in /usr/local/lib/python3.10/dist-packages (from selenium) (2024.12.14)\n",
            "Requirement already satisfied: typing_extensions~=4.9 in /usr/local/lib/python3.10/dist-packages (from selenium) (4.12.2)\n",
            "Requirement already satisfied: websocket-client~=1.8 in /usr/local/lib/python3.10/dist-packages (from selenium) (1.8.0)\n",
            "Requirement already satisfied: attrs>=23.2.0 in /usr/local/lib/python3.10/dist-packages (from trio~=0.17->selenium) (24.3.0)\n",
            "Requirement already satisfied: sortedcontainers in /usr/local/lib/python3.10/dist-packages (from trio~=0.17->selenium) (2.4.0)\n",
            "Requirement already satisfied: idna in /usr/local/lib/python3.10/dist-packages (from trio~=0.17->selenium) (3.10)\n",
            "Requirement already satisfied: outcome in /usr/local/lib/python3.10/dist-packages (from trio~=0.17->selenium) (1.3.0.post0)\n",
            "Requirement already satisfied: sniffio>=1.3.0 in /usr/local/lib/python3.10/dist-packages (from trio~=0.17->selenium) (1.3.1)\n",
            "Requirement already satisfied: exceptiongroup in /usr/local/lib/python3.10/dist-packages (from trio~=0.17->selenium) (1.2.2)\n",
            "Requirement already satisfied: wsproto>=0.14 in /usr/local/lib/python3.10/dist-packages (from trio-websocket~=0.9->selenium) (1.2.0)\n",
            "Requirement already satisfied: pysocks!=1.5.7,<2.0,>=1.5.6 in /usr/local/lib/python3.10/dist-packages (from urllib3[socks]<3,>=1.26->selenium) (1.7.1)\n",
            "Requirement already satisfied: h11<1,>=0.9.0 in /usr/local/lib/python3.10/dist-packages (from wsproto>=0.14->trio-websocket~=0.9->selenium) (0.14.0)\n"
          ]
        },
        {
          "output_type": "execute_result",
          "data": {
            "text/plain": []
          },
          "metadata": {},
          "execution_count": 3
        }
      ]
    },
    {
      "cell_type": "code",
      "source": [
        "!pip install chromedriver-autoinstaller\n",
        "\n",
        "import sys\n",
        "sys.path.insert(0,'/usr/lib/chromium-browser/chromedriver')\n",
        "\n",
        "import time\n",
        "from selenium import webdriver\n",
        "import chromedriver_autoinstaller\n",
        "from selenium.webdriver.support.ui import WebDriverWait\n",
        "from selenium.webdriver.support import expected_conditions as EC\n",
        "from selenium.webdriver.common.by import By\n",
        "\n",
        "# setup chrome options\n",
        "chrome_options = webdriver.ChromeOptions()\n",
        "chrome_options.add_argument('--headless') # ensure GUI is off\n",
        "chrome_options.add_argument('--no-sandbox')\n",
        "chrome_options.add_argument('--disable-dev-shm-usage')\n",
        "\n",
        "# set path to chromedriver as per your configuration\n",
        "chromedriver_autoinstaller.install()\n",
        "\n",
        "# set the target URL\n",
        "url = \"https://www.sofascore.com/api/v1/event/\"\n",
        "\n",
        "# set up the webdriver\n",
        "driver = webdriver.Chrome(options=chrome_options)"
      ],
      "metadata": {
        "colab": {
          "base_uri": "https://localhost:8080/",
          "height": 143
        },
        "id": "TqjZocoXqKZv",
        "outputId": "1c187077-15a1-4c26-9a6a-98afad00f7ce"
      },
      "execution_count": 4,
      "outputs": [
        {
          "output_type": "stream",
          "name": "stdout",
          "text": [
            "Collecting chromedriver-autoinstaller\n",
            "  Downloading chromedriver_autoinstaller-0.6.4-py3-none-any.whl.metadata (2.1 kB)\n",
            "Requirement already satisfied: packaging>=23.1 in /usr/local/lib/python3.10/dist-packages (from chromedriver-autoinstaller) (24.2)\n",
            "Downloading chromedriver_autoinstaller-0.6.4-py3-none-any.whl (7.6 kB)\n",
            "Installing collected packages: chromedriver-autoinstaller\n",
            "Successfully installed chromedriver-autoinstaller-0.6.4\n"
          ]
        },
        {
          "output_type": "display_data",
          "data": {
            "text/plain": [
              "\u001b[2;36m[01/07/25 17:23:43]\u001b[0m\u001b[2;36m \u001b[0m\u001b[34mINFO    \u001b[0m Downloading chromedriver \u001b[1m(\u001b[0m\u001b[1;36m131.0\u001b[0m.\u001b[1;36m6778.204\u001b[0m\u001b[1m)\u001b[0m\u001b[33m...\u001b[0m                              \u001b]8;id=26474;file:///usr/local/lib/python3.10/dist-packages/chromedriver_autoinstaller/utils.py\u001b\\\u001b[2mutils.py\u001b[0m\u001b]8;;\u001b\\\u001b[2m:\u001b[0m\u001b]8;id=754213;file:///usr/local/lib/python3.10/dist-packages/chromedriver_autoinstaller/utils.py#297\u001b\\\u001b[2m297\u001b[0m\u001b]8;;\u001b\\\n"
            ],
            "text/html": [
              "<pre style=\"white-space:pre;overflow-x:auto;line-height:normal;font-family:Menlo,'DejaVu Sans Mono',consolas,'Courier New',monospace\"><span style=\"color: #7fbfbf; text-decoration-color: #7fbfbf\">[01/07/25 17:23:43] </span><span style=\"color: #000080; text-decoration-color: #000080\">INFO    </span> Downloading chromedriver <span style=\"font-weight: bold\">(</span><span style=\"color: #008080; text-decoration-color: #008080; font-weight: bold\">131.0</span>.<span style=\"color: #008080; text-decoration-color: #008080; font-weight: bold\">6778.204</span><span style=\"font-weight: bold\">)</span><span style=\"color: #808000; text-decoration-color: #808000\">...</span>                              <a href=\"file:///usr/local/lib/python3.10/dist-packages/chromedriver_autoinstaller/utils.py\" target=\"_blank\"><span style=\"color: #7f7f7f; text-decoration-color: #7f7f7f\">utils.py</span></a><span style=\"color: #7f7f7f; text-decoration-color: #7f7f7f\">:</span><a href=\"file:///usr/local/lib/python3.10/dist-packages/chromedriver_autoinstaller/utils.py#297\" target=\"_blank\"><span style=\"color: #7f7f7f; text-decoration-color: #7f7f7f\">297</span></a>\n",
              "</pre>\n"
            ]
          },
          "metadata": {}
        }
      ]
    },
    {
      "cell_type": "markdown",
      "source": [
        "# 1) Building the Shots List"
      ],
      "metadata": {
        "id": "CpdHcfIQ0Kjw"
      }
    },
    {
      "cell_type": "markdown",
      "source": [
        "1.1) **Getting The Base Shotmap**: Sofascore (through the previously set up *Selenium* webdriver) is scraped in order to get the base list of shots for the single game."
      ],
      "metadata": {
        "id": "XwbCoQWBoskA"
      }
    },
    {
      "cell_type": "code",
      "execution_count": 5,
      "metadata": {
        "id": "POZc-DiaiW-c"
      },
      "outputs": [],
      "source": [
        "def getBaseShotmap(game, driver):\n",
        "  url = baseUrl + str(game['game_id']) + \"/shotmap\"\n",
        "  print(url)\n",
        "  driver.get(url)\n",
        "  content = driver.page_source\n",
        "  soup = BeautifulSoup(content, 'lxml')\n",
        "  js = html_to_json.convert(str(soup))\n",
        "  js = js['html']\n",
        "  js = js[0]['body']\n",
        "  js = js[0]['pre']\n",
        "  js = js[0]['_value']\n",
        "  js = json.loads(js)\n",
        "  js = js['shotmap']\n",
        "  df = pd.DataFrame(js)\n",
        "  df = df.sort_values(by=['time']).reset_index()\n",
        "  return df"
      ]
    },
    {
      "cell_type": "markdown",
      "source": [
        "1.2) **Getting Teams' Elo Rating**: One of the first features being retrieved is both teams' *Elo rating*, which determines the team's strength **in that period**. It will later be found that **Elo rating is not a useful feature**. The function will get an Elo rating for the team in the match's day, or the first one found in the previous 31 days."
      ],
      "metadata": {
        "id": "fDHotuemsRB9"
      }
    },
    {
      "cell_type": "code",
      "source": [
        "def getEloRating(team, dateString):\n",
        "    if (team == \"U.C Sampdoria\"):\n",
        "      team = \"Sampdoria\"\n",
        "    year, month, day = dateString.split(\"-\")\n",
        "    year = int(year)\n",
        "    month = int(month)\n",
        "    day = int(day)\n",
        "    dfElo = elo.read_team_history(team)\n",
        "    for i in range(0, 31):\n",
        "        if(len(dfElo[(dfElo.index.year == year) & (dfElo.index.month == month) & (dfElo.index.day == (day-i))]) == 0):\n",
        "            eloTeam = dfElo[(dfElo.index.year == year) & (dfElo.index.month == month)].reset_index()\n",
        "            break\n",
        "    return int(eloTeam.loc[0]['elo'])"
      ],
      "metadata": {
        "id": "kMlPQySyr-iT"
      },
      "execution_count": 6,
      "outputs": []
    },
    {
      "cell_type": "markdown",
      "source": [
        "1.3) **Getting Teams' Lineups**: After Elo ratings, lineups are retrieved, through Sofascore, to have informations about the players playing in the match in both teams."
      ],
      "metadata": {
        "id": "hGSB2gKFtT2d"
      }
    },
    {
      "cell_type": "code",
      "source": [
        "def getLineups(match):\n",
        "    players = []\n",
        "    ids = []\n",
        "    url = baseUrl + str(match['game_id']) + \"/lineups\"\n",
        "    driver.get(url)\n",
        "    content = driver.page_source\n",
        "    soup = BeautifulSoup(content, 'lxml')\n",
        "    js = html_to_json.convert(str(soup))\n",
        "    js = js['html']\n",
        "    js = js[0]['body']\n",
        "    js = js[0]['pre']\n",
        "    js = js[0]['_value']\n",
        "    js = json.loads(js)\n",
        "    homePlayers = js['home']['players']\n",
        "    homePlayers = pd.DataFrame(homePlayers)\n",
        "    for i in homePlayers.index:\n",
        "        player = homePlayers.loc[i]['player']\n",
        "        players.append(player['name'])\n",
        "        ids.append(player['id'])\n",
        "    homePlayers['playerName'] = players\n",
        "    homePlayers['id'] = ids\n",
        "    homePlayers = homePlayers.drop(columns='player')\n",
        "    homePlayers['team'] = match['home_team']\n",
        "\n",
        "    homePlayers = homePlayers[['team', 'playerName', 'shirtNumber', 'position', 'substitute', 'id']]\n",
        "\n",
        "    players = []\n",
        "    ids = []\n",
        "    awayPlayers = js['away']['players']\n",
        "    awayPlayers = pd.DataFrame(awayPlayers)\n",
        "    for i in awayPlayers.index:\n",
        "        player = awayPlayers.loc[i]['player']\n",
        "        players.append(player['name'])\n",
        "        ids.append(player['id'])\n",
        "    awayPlayers['playerName'] = players\n",
        "    awayPlayers['id'] = ids\n",
        "    awayPlayers = awayPlayers.drop(columns='player')\n",
        "    awayPlayers['team'] = match['away_team']\n",
        "    awayPlayers = awayPlayers[['team', 'playerName', 'shirtNumber', 'position', 'substitute', 'id']]\n",
        "    lineups = pd.concat([homePlayers, awayPlayers])\n",
        "    lineups = lineups.reset_index(drop=True)\n",
        "    return lineups"
      ],
      "metadata": {
        "id": "4RA_ZWHRtizb"
      },
      "execution_count": 7,
      "outputs": []
    },
    {
      "cell_type": "markdown",
      "source": [
        "1.4) **Getting FIFA/FC Version**: Since **the attacker and keeper ratings are based on their FIFA ratings**, the following function is used to get the closest FIFA database version to the match day, in order to get ratings as close as possible to the ones assigned to players in that time."
      ],
      "metadata": {
        "id": "AG40NfGIt1pE"
      }
    },
    {
      "cell_type": "code",
      "source": [
        "def findVersionByDate(versions, dateObject):\n",
        "  versions = versions.iloc[::-1].reset_index()[:200]\n",
        "  limit = dateObject + timedelta(days=30)\n",
        "  for i in versions.index:\n",
        "    versionDateObject = datetime.strptime(versions.loc[i]['update'], '%b %d, %Y').date()\n",
        "    if dateObject <= versionDateObject <= limit:\n",
        "      print(\"Version Found: \" + str(versions.loc[i]['version_id']))\n",
        "      return versions.loc[i]['version_id']\n",
        "  limit = dateObject - timedelta(days=30)\n",
        "  for i in versions.index:\n",
        "    versionDateObject = datetime.strptime(versions.loc[i]['update'], '%b %d, %Y').date()\n",
        "    if limit <= versionDateObject <= dateObject:\n",
        "      print(\"Version Found: \" + str(versions.loc[i]['version_id']))\n",
        "      return versions.loc[i]['version_id']\n",
        "  print(\"Version Not Found\")"
      ],
      "metadata": {
        "id": "RSbqFUgeuSSE"
      },
      "execution_count": 8,
      "outputs": []
    },
    {
      "cell_type": "markdown",
      "source": [
        "1.5) **Converting Coordinates to Distance & Angle**: Data from Sofascore is represented using x/y coordinates, which are not suitable for the model, so they are converted to *Distance and Angle*, which will be treated as two different features, with **very different influences on the model**."
      ],
      "metadata": {
        "id": "YzIm5L8JvcXN"
      }
    },
    {
      "cell_type": "code",
      "source": [
        "def convertXY(x, y):\n",
        "  baseX = 0\n",
        "  baseY = 40\n",
        "  distance = math.sqrt((x - baseX)**2 + (y - baseY)**2)\n",
        "  angleRadiants = math.atan2(y - baseY, x - baseX)\n",
        "  angle = math.degrees(angleRadiants)\n",
        "  return int(distance), abs(int(angle))"
      ],
      "metadata": {
        "id": "9A_VwiZ7vbtD"
      },
      "execution_count": 9,
      "outputs": []
    },
    {
      "cell_type": "markdown",
      "source": [
        "1.6) **Get Player SoFIFA ID**: Informations about player ratings are retrieved through the *SoFIFA* website, thanks to the *SoccerData* library. This function allows to find the player's SoFIFA ID, in order to get his rating in the next function, at point 8. If the player can't be found, the *getLostPlayer* function, explained in point 7, will be called. If even this function can't find the player, the program will arbitrarily take the team goalkeeper's rating and return a rating based on that."
      ],
      "metadata": {
        "id": "9w1h4aO7wj9B"
      }
    },
    {
      "cell_type": "code",
      "source": [
        "def getPlayerRating(df, i, home, fifaPlayers, pHome, pAway, sofifaSingle, game, position):\n",
        "  if home == True:\n",
        "    for j in pHome.index:\n",
        "      if unidecode.unidecode(df.loc[i]['player']['name']) in unidecode.unidecode(pHome.loc[j]['player']):\n",
        "        playerId = j\n",
        "        rating = getShotRating(sofifaSingle,int(playerId))\n",
        "        return rating\n",
        "\n",
        "    for j in fifaPlayers.index:\n",
        "      if unidecode.unidecode(df.loc[i]['player']['name']) in unidecode.unidecode(fifaPlayers.loc[j]['player']):\n",
        "        playerId = j\n",
        "        rating = getShotRating(sofifaSingle, int(playerId))\n",
        "        return rating\n",
        "\n",
        "    rating = getLostPlayer(df.loc[i]['player']['name'], game['home_team'], sofifaSingle)\n",
        "    if(rating == 0):\n",
        "      print(df.loc[i]['player']['name'] + \" Not Found\")\n",
        "      f = open(basePath + \"notFound.txt\", \"a\")\n",
        "      f.write(df.loc[i]['player']['name'] + \", Date: \" + str(game['date']) + \"\\n\")\n",
        "      f.close()\n",
        "      pHome = pHome.reset_index()\n",
        "      referralId = pHome.loc[0]['player_id']\n",
        "      rating = sofifaSingle.read_player_ratings(team=game['home_team'], player=int(referralId))['overallrating'].iloc[0]\n",
        "      if position == \"F\":\n",
        "        rating = int(rating)-10\n",
        "      elif position == \"M\":\n",
        "        rating = int(rating)-20\n",
        "      elif position == \"D\":\n",
        "        rating = int(rating)-30\n",
        "      return rating\n",
        "    return rating\n",
        "  else:\n",
        "    for j in pAway.index:\n",
        "      if unidecode.unidecode(df.loc[i]['player']['name']) in unidecode.unidecode(pAway.loc[j]['player']):\n",
        "        playerId = j\n",
        "        rating = getShotRating(sofifaSingle, int(playerId))\n",
        "        return rating\n",
        "\n",
        "    for j in fifaPlayers.index:\n",
        "      if unidecode.unidecode(df.loc[i]['player']['name']) in unidecode.unidecode(fifaPlayers.loc[j]['player']):\n",
        "        playerId = j\n",
        "        rating = getShotRating(sofifaSingle, int(playerId))\n",
        "        return rating\n",
        "\n",
        "    rating = getLostPlayer(df.loc[i]['player']['name'], game['away_team'], sofifaSingle)\n",
        "    if(rating == 0):\n",
        "      print(df.loc[i]['player']['name'] + \" Not Found\")\n",
        "      f = open(basePath + \"notFound.txt\", \"a\")\n",
        "      f.write(df.loc[i]['player']['name'] + \", Date: \" + str(game['date']) + \"\\n\")\n",
        "      f.close()\n",
        "      pAway = pAway.reset_index()\n",
        "      referralId = pAway.loc[0]['player_id']\n",
        "      rating = sofifaSingle.read_player_ratings(team=game['away_team'], player=int(referralId))['overallrating'].iloc[0]\n",
        "      if position == \"F\":\n",
        "        rating = int(rating)-10\n",
        "      elif position == \"M\":\n",
        "        rating = int(rating)-20\n",
        "      elif position == \"D\":\n",
        "        rating = int(rating)-30\n",
        "      return rating\n",
        "    return rating"
      ],
      "metadata": {
        "id": "Qtbf15fjw43I"
      },
      "execution_count": 10,
      "outputs": []
    },
    {
      "cell_type": "markdown",
      "source": [
        "1.7) **Find Lost Players**: This function is useful for players that can't be found, and that have been hardcoded to fill the dataset. The following players couldn't be found for differences between the players' names on Sofascore and the ones on SoFIFA, or for newly-promoted/relegated teams."
      ],
      "metadata": {
        "id": "e1neZL_rxYkF"
      }
    },
    {
      "cell_type": "code",
      "source": [
        "def getLostPlayer(lostName, lostTeam, sofifaSingle):\n",
        "  sfPlayerIds = {\n",
        "      \"M'Bala Nzola\": 240452,\n",
        "      \"Georgios Kyriakopoulos\": 253213,\n",
        "      \"Gabriel Strefezza\": 235949,\n",
        "      \"Renato Sanches\": 235949,\n",
        "      \"Samuel Iling Junior\": 230767,\n",
        "      \"Dan Ndoye\": 257980,\n",
        "      \"Rafael Leão\": 241721,\n",
        "      \"Zito Luvumbo\": 259011,\n",
        "      \"Leandro Paredes\": 207439,\n",
        "      \"Dodô\": 234112,\n",
        "      \"Jesper Karlsson\": 231836,\n",
        "      \"Ruslan Malinovskyi\": 231969,\n",
        "      \"Frank Anguissa\": 227236,\n",
        "      \"Uroš Račić\": 244253,\n",
        "      \"João Ferreira\": 252577,\n",
        "      \"Agustín Martegani\": 262083,\n",
        "      \"Romelu Lukaku\": 192505,\n",
        "      \"José Machín\": 230817,\n",
        "      \"Emil Holm\": 246656,\n",
        "      \"Victor Kristiansen\": 259762,\n",
        "      \"Mattéo Guendouzi\": 236496,\n",
        "      \"Juan Jesus\": 200752,\n",
        "      \"Jesper Lindstrøm\": 245741,\n",
        "      \"Walid Cheddira\": 268511,\n",
        "      \"Jovane Cabral\": 244193,\n",
        "      \"Mohamed Kaba\": 263469,\n",
        "      \"Berkan Kutlu\": 259675,\n",
        "      \"Jens Cajuste\": 244472,\n",
        "      \"Emil Konradsen Ceide\": 245537,\n",
        "      \"Samu Castillejo\": 210617,\n",
        "      \"Pol Lirola\": 235875,\n",
        "      \"Natan\": 277537,\n",
        "      \"Aleksei Miranchuk\": 214092,\n",
        "      \"Yann Bisseck\": 241736,\n",
        "      \"Simy\": 219496,\n",
        "      \"Thomas Kristensen\": 261573,\n",
        "      \"Pedro Pereira\": 230824,\n",
        "      \"Szymon Żurkowski\": 239732,\n",
        "      \"Matteo Gabbia\": 240277,\n",
        "      \"Alberto Cerri\": 213829,\n",
        "      \"Santiago Pierotti\": 236758,\n",
        "      \"Hamed Junior Traorè\": 240787,\n",
        "      \"Tijjani Noslin\": 264257,\n",
        "      \"Karol Świderski\": 224301,\n",
        "      \"Angeliño\": 220651,\n",
        "      \"Daniel Silva\": 270686,\n",
        "      \"Vitinha\": 236758,\n",
        "      \"Juan Cabal\": 251870,\n",
        "      \"Marcus Pedersen\": 243481,\n",
        "      \"Rodrigo Becão\": 238621,\n",
        "      \"Pablo Marí\": 206654,\n",
        "      \"Mehdi Léris\": 240660,\n",
        "      \"Abdelhamid Sabiri\": 237499,\n",
        "      \"Fabio Depaoli\": 235834,\n",
        "      \"Fabio Quagliarella\": 159261,\n",
        "      \"Cyriel Dessers\": 222262,\n",
        "      \"David Okereke\": 233732,\n",
        "      \"Luca Zanimacchia\": 235935,\n",
        "      \"Charles Pickel\": 233884,\n",
        "      \"Giacomo Quagliata\": 255580,\n",
        "      \"Cristian Buonaiuto\": 222153,\n",
        "      \"Matteo Bianchetti\": 205363,\n",
        "      \"Grīgorīs Kastanos\": 237335,\n",
        "      \"Federico Bonazzoli\": 223137,\n",
        "      \"Tonny Vilhena\": 203535,\n",
        "      \"Antonio Candreva\": 173221,\n",
        "      \"Dylan Bronn\": 235565,\n",
        "      \"Federico Fazio\": 179847,\n",
        "      \"Arkadiusz Reca\": 234760,\n",
        "      \"Mehdi Bourabia\": 198220,\n",
        "      \"Mattia Caldara\": 220477,\n",
        "      \"Kevin Agudelo\": 243253,\n",
        "      \"Domenico Berardi\": 210935,\n",
        "      \"Grégoire Defrel\": 202851,\n",
        "      \"Kristian Thorstvedt\": 242725,\n",
        "      \"Kaan Ayhan\": 207790,\n",
        "      \"Davide Frattesi\": 239807,\n",
        "      \"Matheus Henrique\": 254487,\n",
        "      \"Jeremy Toljan\": 214622,\n",
        "      \"Filip Kostić\": 208574,\n",
        "      \"Petko Hristov\": 239998,\n",
        "      \"David Strelec\": 264692,\n",
        "      \"Nikola Vlašić\": 241095,\n",
        "      \"Giulio Maggiore\": 236368,\n",
        "      \"Erik Botheim\": 239125,\n",
        "      \"Destiny Udogie\": 259583,\n",
        "      \"Pasquale Mazzocchi\": 239679,\n",
        "      \"Beto\": 251892,\n",
        "      \"Min-jae Kim\": 237086,\n",
        "      \"Arthur Cabral\": 246186,\n",
        "      \"Paolo Ghiglione\": 230912,\n",
        "      \"Santiago Ascacíbar\": 232244,\n",
        "      \"Luka Lochoshvili\": 258464,\n",
        "      \"Emanuele Valeri\": 258714,\n",
        "      \"Tomás Rincón\": 191053,\n",
        "      \"Francesco Caputo\": 189053,\n",
        "      \"Jaime Báez\": 231050,\n",
        "      \"Emanuel Aiwu\": 243442,\n",
        "      \"Gonzalo Escalante\": 219391,\n",
        "      \"Leonardo Sernicola\": 233968,\n",
        "      \"Johan Vásquez\": 244349,\n",
        "      \"Andrea Pinamonti\": 235842,\n",
        "      \"Simone Bastoni\": 225189,\n",
        "      \"Emmanuel Gyasi\": 220491,\n",
        "      \"Gian Marco Ferrari\": 224808,\n",
        "      \"Rogério\": 241629,\n",
        "      \"Miguel Veloso\": 178007,\n",
        "      \"Boulaye Dia\": 246242,\n",
        "      \"Filip Đuričić\": 193881,\n",
        "      \"Omar Colley\": 226536,\n",
        "      \"Valerio Verre\": 205531,\n",
        "      \"Samuel Di Carmine\": 186614,\n",
        "      \"Viktor Kovalenko\": 228698,\n",
        "      \"Bartosz Bereszyński\": 199763,\n",
        "      \"Manolo Gabbiadini\": 198683,\n",
        "      \"Lassana Coulibaly\": 230107,\n",
        "      \"Armand Laurienté\": 243593,\n",
        "      \"Maxime López\": 224030,\n",
        "      \"Agustín Álvarez\": 258846,\n",
        "      \"Tommaso Augello\": 240100,\n",
        "      \"Ronaldo Vieira\": 233943,\n",
        "      \"Jakub Kiwior\": 265693,\n",
        "      \"Krzysztof Piątek\": 223113,\n",
        "      \"Domagoj Bradarić\": 252000,\n",
        "      \"Diego Valencia\": 243386,\n",
        "      \"Jeison Murillo\": 201377,\n",
        "      \"Ethan Ampadu\": 235735,\n",
        "      \"Luca D'Andrea\": 271482,\n",
        "      \"Abdou Harroui\": 241937,\n",
        "      \"Soualiho Meïté\": 205391,\n",
        "      \"Mikael Ellertsson\": 264436,\n",
        "      \"Daniel Ciofani\": 178475,\n",
        "      \"Michele Castagnetti\": 235163,\n",
        "      \"Janis Antiste\": 255839,\n",
        "      \"Ruan\": 263785,\n",
        "      \"Daniel Maldini\": 255611,\n",
        "      \"Kelvin Amian\": 231235,\n",
        "      \"Flavius Daniliuc\": 252017,\n",
        "      \"Dimitris Nikolaou\": 237040,\n",
        "      \"Albin Ekdal\": 181318,\n",
        "      \"Felix Afena-Gyan\": 265187,\n",
        "      \"Daniele Verde\": 225844,\n",
        "      \"Norbert Gyömbér\": 220061,\n",
        "      \"Emil Bohinen\": 234894,\n",
        "      \"Ilija Nestorovski\": 199274,\n",
        "      \"Bruno Amione\": 268679,\n",
        "      \"Ignacio Pussetto\": 219536,\n",
        "      \"Gonzalo Villar\": 244393,\n",
        "      \"Alex Ferrari\": 219852,\n",
        "      \"Frank Tsadjout\": 253071,\n",
        "      \"Daniele Montevago\": 272511,\n",
        "      \"Lorenzo Pirola\": 257368,\n",
        "      \"Gerard Yepes\": 266069,\n",
        "      \"Niklas Pyyhtiä\": 274089,\n",
        "      \"Junior Sambia\": 223570,\n",
        "      \"Sam Lammers\": 236498,\n",
        "      \"Pedro Obiang\": 200054,\n",
        "      \"Saša Lukić\": 236699,\n",
        "      \"Kristijan Bistrović\": 242079,\n",
        "      \"Bram Nuytinck\": 193091,\n",
        "      \"Hans Nicolussi Caviglia\": 253162,\n",
        "      \"Nadir Zortea\": 252440,\n",
        "      \"Martin Erlić\": 244456,\n",
        "      \"Jean-Victor Makengo\": 230686,\n",
        "      \"Alessandro Zanoli\": 268656,\n",
        "      \"Matteo Lovato\": 258946,\n",
        "      \"Salvatore Esposito\": 252290,\n",
        "      \"Vlad Chiricheş\": 205943,\n",
        "      \"Nedim Bajrami\": 237640,\n",
        "      \"Marco Benassi\": 211354,\n",
        "      \"Raimonds Krollis\": 273653,\n",
        "      \"Harry Winks\": 222400,\n",
        "      \"Przemysław Wiśniewski\": 243185,\n",
        "      \"Eldor Shomurodov\": 239964,\n",
        "      \"Simone Pafundi\": 271575,\n",
        "      \"Michaël Cuisance\": 239744,\n",
        "      \"Domen Črnigoj\": 231137,\n",
        "      \"Jesé Rodríguez\": 202515,\n",
        "      \"Tio Cipot\": 273652,\n",
        "      \"Pablo Galdames\": 219127,\n",
        "      \"Diego Llorente\": 212602,\n",
        "      \"Koray Günter\": 204451,\n",
        "      \"Joel Voelkerling Persson\": 271494,\n",
        "      \"Marios Oikonoumou\": 216523,\n",
        "      \"William Troost-Ekong\": 213414,\n",
        "      \"Francisco Conceição\": 261050,\n",
        "      \"Sebastiano Esposito\": 247888,\n",
        "      \"Liam Henderson\": 219952,\n",
        "      \"Mattia Viti\": 264044,\n",
        "      \"Ola Solbakken\": 242090,\n",
        "      \"Álvaro Morata\": 201153,\n",
        "      \"Ange-Yoan Bonny\": 259565,\n",
        "      \"Artem Dovbyk\": 242458,\n",
        "      \"Matías Soulé\": 265695,\n",
        "      \"Dailon Rocha Livramento\": 73853,\n",
        "      \"Daniel Mosquera\": 266585,\n",
        "      \"Richie Sagrado\": 275087,\n",
        "      \"Fisayo Dele-Bashiru\": 258890,\n",
        "      \"Loum Tchaouna\": 264880,\n",
        "      \"Samuel Mbangula\": 74566,\n",
        "      \"Douglas Luiz\": 236499,\n",
        "      \"Kialonda Gaspar\": 275783,\n",
        "      \"Marco Brescianini\": 257785,\n",
        "      \"Valentin Gendrey\": 245863,\n",
        "      \"Antonín Barák\": 236791,\n",
        "      \"Paulo Azzi\": 222388,\n",
        "      \"Nico Paz\": 277846,\n",
        "      \"Saul Coco\": 265650,\n",
        "      \"Nicolás González\": 240690,\n",
        "      \"Tete Morente\": 239671,\n",
        "      \"Nuno Tavares\": 251530,\n",
        "      \"Sergi Roberto\": 199564,\n",
        "      \"Faustino Anjorin\": 248474,\n",
        "      \"Enrico Del Prato\": 252442,\n",
        "      \"Valentin Mihăilă\": 248060,\n",
        "      \"Simon Sohm\": 244634,\n",
        "      \"Dennis Man\": 239978,\n",
        "      \"Nahuel Estévez\": 240992,\n",
        "      \"Adrián Bernabé\": 252794,\n",
        "      \"Wylan Cyprien\": 212886,\n",
        "      \"Francesco Zampano\":219655,\n",
        "      \"Christian Gytkjær\": 201285,\n",
        "      \"Giorgio Altare\": 263647,\n",
        "      \"Nicholas Pierini\": 241628,\n",
        "      \"Alessandro Gabrielloni\": 268674,\n",
        "      \"Souleymane Isaak Touré\": 258972,\n",
        "      \"Alieu Njie\": 70480,\n",
        "      \"Emerson Royal\": 247204,\n",
        "      \"Magnus Kofod Andersen\": 237840,\n",
        "      \"Drissa Camara\": 264364,\n",
        "      \"Jordi Mboula\": 239441,\n",
        "      \"Giuseppe Caso\": 258788,\n",
        "      \"Davide Biraschi\": 213938,\n",
        "      \"Mateo Retegui\": 241850,\n",
        "      \"Albert Guðmundsson\": 238004,\n",
        "      \"Morten Thorsby\": 222475,\n",
        "      \"Marcus Thuram\": 228093,\n",
        "      \"Pontus Almqvist\": 236706,\n",
        "      \"Ylber Ramadani\": 243787,\n",
        "      \"Hassane Kamara\": 220421,\n",
        "      \"Oier Zarraga\": 258615,\n",
        "      \"Lorenzo Lucca\": 268474,\n",
        "      \"Tijjani Reijnders\": 240638,\n",
        "      \"Ruben Loftus-Cheek\": 213666,\n",
        "      \"Christian Pulišić\": 227796,\n",
        "      \"Gaetano Oristanio\": 269276,\n",
        "      \"Jakub Jankto\": 226592,\n",
        "      \"Leonardo Pavoletti\": 205850,\n",
        "      \"Nahitan Nández\": 230965,\n",
        "      \"Nicolò Fagioli\": 260823,\n",
        "      \"Riccardo Saponara\": 201046,\n",
        "      \"Josip Brekalo\": 234711,\n",
        "      \"Nico González\": 240690,\n",
        "      \"Nicolas Haas\": 225117,\n",
        "      \"Luis Muriel\": 199110,\n",
        "      \"Konstantinos Manolas\": 240050,\n",
        "      \"Rúben Vinagre\": 235172\n",
        "\n",
        "  }\n",
        "  idKeys = list(sfPlayerIds.keys())\n",
        "  if lostName in idKeys:\n",
        "    sfPlayerId = sfPlayerIds[lostName]\n",
        "    return getShotRating(sofifaSingle, sfPlayerId)\n",
        "  return 0"
      ],
      "metadata": {
        "id": "EO7PU9jBxyFO"
      },
      "execution_count": 11,
      "outputs": []
    },
    {
      "cell_type": "markdown",
      "source": [
        "1.8) **Get Player Shot Rating**: This function allows to find a player's FIFA Shot Rating, which describes his ability to shoot and to convert scoring chances. The player ID is provided by the previous *getPlayerRating* function.\n",
        "\n",
        "The function tries to follow FIFA's stat for Shooting, by calculating a weigthed mean between the player's:\n",
        "\n",
        "\n",
        "*   Finishing Ability: **45%**\n",
        "*   Shooting Power: **20%**\n",
        "*   Ability to shoot Longshots (from the distance): **20%**\n",
        "*   Ability to shoot Volleys: **10%**\n",
        "*   Ability to shoot Penalties: **5%**\n",
        "\n"
      ],
      "metadata": {
        "id": "s9WsnBhiv7nQ"
      }
    },
    {
      "cell_type": "code",
      "source": [
        "def getShotRating(sf, playerId):\n",
        "  dfRatings = sf.read_player_ratings(player=playerId).reset_index()\n",
        "  stats = dfRatings.loc[0]\n",
        "  finishing = stats['finishing']\n",
        "  volleys = stats['volleys']\n",
        "  shotPower = stats['shotpower']\n",
        "  longShots = stats['longshots']\n",
        "  penalties = stats['penalties']\n",
        "  shotRating = (int(finishing)*0.45) + (int(shotPower)*0.2) + (int(longShots)*0.2) + (int(volleys)*0.1) + (int(penalties)*0.05)\n",
        "  return math.floor(shotRating)"
      ],
      "metadata": {
        "id": "ukp4onU4yZ5n"
      },
      "execution_count": 12,
      "outputs": []
    },
    {
      "cell_type": "markdown",
      "source": [
        "1.9) **Get Goalkeeper Rating**: The goalkeeper gets an easier process, since only is overall rating is needed. The same function is applied for lost keepers."
      ],
      "metadata": {
        "id": "FXEf3dP6zg8n"
      }
    },
    {
      "cell_type": "code",
      "source": [
        "def getKeeperRating(df, i, home, pHome, pAway, oppositeKeeper, game, sofifaSingle, fifaPlayers):\n",
        "  if home == True:\n",
        "    for j in pAway.index:\n",
        "        if unidecode.unidecode(oppositeKeeper) in unidecode.unidecode(pAway.loc[j]['player']):\n",
        "          playerId = j\n",
        "          rating = sofifaSingle.read_player_ratings(team=game['away_team'], player=int(playerId))['overallrating'].iloc[0]\n",
        "          return rating\n",
        "    for j in fifaPlayers.index:\n",
        "      if unidecode.unidecode(oppositeKeeper) in unidecode.unidecode(fifaPlayers.loc[j]['player']):\n",
        "        playerId = j\n",
        "        rating = sofifaSingle.read_player_ratings(team=game['away_team'], player=int(playerId))['overallrating'].iloc[0]\n",
        "        return rating\n",
        "    rating = getLostKeeper(oppositeKeeper, game['away_team'], sofifaSingle)\n",
        "    if(rating == 0):\n",
        "      print(oppositeKeeper + \" Not Found\")\n",
        "      pAway = pAway.reset_index()\n",
        "      referralId = pAway.loc[0]['player_id']\n",
        "      rating = sofifaSingle.read_player_ratings(team=game['away_team'], player=int(referralId))['overallrating'].iloc[0]\n",
        "      rating = int(rating)-10\n",
        "      f = open(basePath + \"notFound.txt\", \"a\")\n",
        "      f.write(oppositeKeeper + \", Date: \" + str(game['date']) + \"\\n\")\n",
        "      f.close()\n",
        "      return rating\n",
        "    return rating\n",
        "  else:\n",
        "    for j in pHome.index:\n",
        "        if unidecode.unidecode(oppositeKeeper) in unidecode.unidecode(pHome.loc[j]['player']):\n",
        "          playerId = j\n",
        "          rating = sofifaSingle.read_player_ratings(team=game['home_team'], player=int(playerId))['overallrating'].iloc[0]\n",
        "          return rating\n",
        "\n",
        "    for j in fifaPlayers.index:\n",
        "      if unidecode.unidecode(oppositeKeeper) in unidecode.unidecode(fifaPlayers.loc[j]['player']) :\n",
        "        playerId = j\n",
        "        rating = sofifaSingle.read_player_ratings(team=game['home_team'], player=int(playerId))['overallrating'].iloc[0]\n",
        "        return rating\n",
        "\n",
        "    rating = getLostKeeper(oppositeKeeper, game['home_team'], sofifaSingle)\n",
        "    if(rating == 0):\n",
        "      print(oppositeKeeper + \" Not Found\")\n",
        "      pHome = pHome.reset_index()\n",
        "      referralId = pHome.loc[0]['player_id']\n",
        "      rating = sofifaSingle.read_player_ratings(team=game['home_team'], player=int(referralId))['overallrating'].iloc[0]\n",
        "      rating = int(rating)-10\n",
        "      f = open(basePath + \"notFound.txt\", \"a\")\n",
        "      f.write(oppositeKeeper + \", Date: \" + str(game['date']) + \"\\n\")\n",
        "      f.close()\n",
        "      return rating\n",
        "    return rating"
      ],
      "metadata": {
        "id": "mYhj9_PozqP8"
      },
      "execution_count": 13,
      "outputs": []
    },
    {
      "cell_type": "markdown",
      "source": [
        "1.10) **Get Lost Goalkeeper**"
      ],
      "metadata": {
        "id": "bfVJPQ0kz6Zn"
      }
    },
    {
      "cell_type": "code",
      "source": [
        "def getLostKeeper(lostName, lostTeam, sofifaSingle):\n",
        "  sfPlayerIds = {\n",
        "      \"Emil Audero\": 228413,\n",
        "      \"Ionuț Radu\": 234102,\n",
        "      \"Luís Maximiano\": 244316,\n",
        "      \"Luigi Sepe\": 191011,\n",
        "      \"Rui Patrício\": 178005,\n",
        "      \"Andrea Consigli\": 163489,\n",
        "      \"Bartłomiej Drągowski\": 215502,\n",
        "      \"Marco Carnesecchi\": 252154,\n",
        "      \"Devis Vásquez\": 233189,\n",
        "      \"Semuel Pizzignacco\": 268875,\n",
        "      \"Zion Suzuki\": 255981,\n",
        "      \"Pepe Reina\": 24630,\n",
        "      \"Jesse Joronen\": 199904,\n",
        "      \"Elia Caprile\": 255303,\n",
        "      \"Stefano Turati\": 254502,\n",
        "      \"Josep Martínez\": 243311,\n",
        "      \"Yann Sommer\": 177683,\n",
        "      \"Boris Radunović\": 231073\n",
        "  }\n",
        "  idKeys = list(sfPlayerIds.keys())\n",
        "  if lostName in idKeys:\n",
        "    sfPlayerId = sfPlayerIds[lostName]\n",
        "    rating = sofifaSingle.read_player_ratings(player=int(sfPlayerId))['overallrating'].iloc[0]\n",
        "    return rating\n",
        "  return 0"
      ],
      "metadata": {
        "id": "Vn_UD5hyz3C-"
      },
      "execution_count": 14,
      "outputs": []
    },
    {
      "cell_type": "markdown",
      "source": [
        "1.11) **Getting the Player's Foot**: This function has been added since Right/Left Foot was not a useful information, so in case of foot shots, right/left foot is converted to **strong/weak foot**, based on the player's info."
      ],
      "metadata": {
        "id": "gEx2tC6FrNBa"
      }
    },
    {
      "cell_type": "code",
      "source": [
        "def getPlayerFoot(id):\n",
        "  url = 'https://www.sofascore.com/api/v1/player/' + str(id)\n",
        "  print(url)\n",
        "  driver.get(url)\n",
        "  content = driver.page_source\n",
        "  soup = BeautifulSoup(content, 'lxml')\n",
        "  js = html_to_json.convert(str(soup))\n",
        "  js = js['html']\n",
        "  js = js[0]['body']\n",
        "  js = js[0]['pre']\n",
        "  js = js[0]['_value']\n",
        "  js = json.loads(js)\n",
        "  js = js['player']\n",
        "  if 'preferredFoot' in js:\n",
        "    foot = js['preferredFoot']\n",
        "    if foot == 'Right':\n",
        "      foot = 'right-foot'\n",
        "    elif foot == 'Left':\n",
        "      foot = 'left-foot'\n",
        "  else:\n",
        "    foot = 'right-foot'\n",
        "  return foot"
      ],
      "metadata": {
        "id": "nEA_H9vRrT3T"
      },
      "execution_count": 15,
      "outputs": []
    },
    {
      "cell_type": "markdown",
      "source": [
        "1.12) **Getting the Complete Shotmap**: The complete shotmap is obtained by retrieving and adding all the previous features to the base shotmap."
      ],
      "metadata": {
        "id": "Ex1PBrH20jtl"
      }
    },
    {
      "cell_type": "code",
      "source": [
        "def getSmallShotmap(game):\n",
        "  df = getBaseShotmap(game, driver)\n",
        "  players = []\n",
        "  positions = []\n",
        "  shotX = []\n",
        "  shotY = []\n",
        "  distances = []\n",
        "  angles = []\n",
        "  teams = []\n",
        "  opponents = []\n",
        "  team = \"\"\n",
        "  opponent = \"\"\n",
        "  keepers = []\n",
        "  elosHome = []\n",
        "  elosAway = []\n",
        "  ratings = []\n",
        "  keeperRatings = []\n",
        "  teamGoals = []\n",
        "  hg = 0\n",
        "  opponentGoals = []\n",
        "  ag = 0\n",
        "  goalDifferences = []\n",
        "  goals = []\n",
        "  bodyParts = []\n",
        "  pIDs = []\n",
        "  kIDs = []\n",
        "\n",
        "  homeTeam = game['home_team']\n",
        "  if(homeTeam == \"Hellas Verona\"):\n",
        "      homeTeam = \"Verona\"\n",
        "\n",
        "  awayTeam = game['away_team']\n",
        "  if(awayTeam == \"Hellas Verona\"):\n",
        "      awayTeam = \"Verona\"\n",
        "\n",
        "\n",
        "\n",
        "  # Retrieving Match Date\n",
        "  dateString, time = str(game['date']).split(\" \", 1)\n",
        "  year, month, day = dateString.split(\"-\")\n",
        "  dateObject = date(int(year), int(month), int(day))\n",
        "\n",
        "  # Retrieving Elo Ratings\n",
        "  eloHome = getEloRating(homeTeam, dateString)\n",
        "  eloAway = getEloRating(awayTeam, dateString)\n",
        "\n",
        "  # Retrieving Lineups\n",
        "  lineups = getLineups(game)\n",
        "\n",
        "  homeTeam = game['home_team']\n",
        "  if homeTeam == \"U.C Sampdoria\":\n",
        "    homeTeam = \"Sampdoria\"\n",
        "  awayTeam = game['away_team']\n",
        "  if awayTeam == \"U.C Sampdoria\":\n",
        "    awayTeam = \"Sampdoria\"\n",
        "\n",
        "  # Retrieving FIFA Version\n",
        "  version_id = findVersionByDate(versions, dateObject)\n",
        "  # Creating FIFA Version Object\n",
        "  sofifaSingle = sd.SoFIFA(leagues=league, versions=int(version_id))\n",
        "\n",
        "  # Reading All League's Teams\n",
        "  teamNames = sofifaSingle.read_teams()\n",
        "  teamNames = teamNames['team'].to_list()\n",
        "  # Reading All League's Players\n",
        "  fifaPlayers = sofifaSingle.read_players()\n",
        "  duplicates = fifaPlayers[fifaPlayers.duplicated('player')]\n",
        "  for index in duplicates.index:\n",
        "    fifaPlayers = fifaPlayers.drop(index)\n",
        "  # Reading Home Players\n",
        "  if homeTeam in teamNames:\n",
        "    playersHome = sofifaSingle.read_players(team=homeTeam)\n",
        "  else:\n",
        "    print(\"Team \" + homeTeam + \" Not Found\")\n",
        "    playersHome = fifaPlayers\n",
        "  # Reading Away Players\n",
        "  if awayTeam in teamNames:\n",
        "    playersAway = sofifaSingle.read_players(team=awayTeam)\n",
        "  else:\n",
        "    print(\"Team \" + awayTeam + \" Not Found\")\n",
        "    playersAway = fifaPlayers\n",
        "\n",
        "  # Appending Player Informations to the Base Shotmap\n",
        "  for i in df.index:\n",
        "    playerId=\"Not Found\"\n",
        "    # Player Name\n",
        "    players.append(df.loc[i]['player']['name'])\n",
        "\n",
        "    # Player ID and Body Part\n",
        "    pID = df.loc[i]['player']['id']\n",
        "    pIDs.append(pID)\n",
        "    bodyPart = df.loc[i]['bodyPart']\n",
        "    if bodyPart == 'right-foot' or bodyPart == 'left-foot':\n",
        "      foot = getPlayerFoot(pID)\n",
        "      if bodyPart == foot:\n",
        "        bodyPart = 'strong-foot'\n",
        "      else:\n",
        "        bodyPart = 'weak-foot'\n",
        "      bodyParts.append(bodyPart)\n",
        "    else:\n",
        "      bodyParts.append(bodyPart)\n",
        "\n",
        "    # Player Position (Goalkeeper, Defender, Midfielder, Forward)\n",
        "    position = df.loc[i]['player']['position']\n",
        "    positions.append(position)\n",
        "    # Converting Coordinates to Distance-Angle\n",
        "    x = int((df.loc[i]['playerCoordinates']['x'])*1.2)\n",
        "    y = int((df.loc[i]['playerCoordinates']['y'])*0.8)\n",
        "    shotX.append(x)\n",
        "    shotY.append(y)\n",
        "    distance, angle = convertXY(x, y)\n",
        "    distances.append(distance)\n",
        "    angles.append(angle)\n",
        "\n",
        "\n",
        "    if df.loc[i]['isHome'] == True:\n",
        "      # Retrieving Goal Difference\n",
        "      goalDifferences.append(hg-ag)\n",
        "      team = game['home_team']\n",
        "      teams.append(team)\n",
        "      opponent = game['away_team']\n",
        "      opponents.append(opponent)\n",
        "      # Appending Elo Ratings\n",
        "      elosHome.append(eloHome)\n",
        "      elosAway.append(eloAway)\n",
        "\n",
        "      # Retrieving Player Shot Rating\n",
        "      rating = getPlayerRating(df, i, True, fifaPlayers, playersHome, playersAway, sofifaSingle, game, position)\n",
        "      ratings.append(rating)\n",
        "    else:\n",
        "      goalDifferences.append(ag-hg)\n",
        "      team = game['away_team']\n",
        "      teams.append(team)\n",
        "      opponent = game['home_team']\n",
        "      opponents.append(opponent)\n",
        "      elosHome.append(eloAway)\n",
        "      elosAway.append(eloHome)\n",
        "\n",
        "      rating = getPlayerRating(df, i, False, fifaPlayers, playersHome, playersAway, sofifaSingle, game, position)\n",
        "      ratings.append(rating)\n",
        "\n",
        "    # Retrieving Goalkeeper Informations\n",
        "    oppositeLineup = lineups.loc[lineups['team'] == opponent].reset_index()\n",
        "    oppositeKeeper = oppositeLineup.loc[0]['playerName']\n",
        "    kID = oppositeLineup.loc[0]['id']\n",
        "    kIDs.append(kID)\n",
        "    keepers.append(oppositeKeeper)\n",
        "\n",
        "    if df.loc[i]['isHome'] == True:\n",
        "      rating = getKeeperRating(df, i, True, playersHome, playersAway, oppositeKeeper, game, sofifaSingle, fifaPlayers)\n",
        "    else:\n",
        "      rating = getKeeperRating(df, i, False, playersHome, playersAway, oppositeKeeper, game, sofifaSingle, fifaPlayers)\n",
        "    keeperRatings.append(rating)\n",
        "\n",
        "\n",
        "    if df.loc[i]['shotType'] == \"goal\":\n",
        "      goals.append(1)\n",
        "      if df.loc[i]['isHome'] == True:\n",
        "        hg += 1\n",
        "      else:\n",
        "        ag += 1\n",
        "    else:\n",
        "      goals.append(0)\n",
        "\n",
        "  # # Creating Dataframe\n",
        "\n",
        "  new_df = pd.DataFrame()\n",
        "  new_df['minute'] = df['time']\n",
        "  new_df['goalDifference'] = goalDifferences\n",
        "  new_df['player'] = players\n",
        "  new_df['playerID'] = pIDs\n",
        "  new_df['position'] = positions\n",
        "  new_df['rating'] = ratings\n",
        "  new_df['team'] = teams\n",
        "  new_df['eloTeam'] = elosHome\n",
        "  new_df['keeper'] = keepers\n",
        "  new_df['keeperID'] = kIDs\n",
        "  new_df['keeperRating'] = keeperRatings\n",
        "  new_df['opponent'] = opponents\n",
        "  new_df['eloOpponent'] = elosAway\n",
        "  new_df['isHome'] = df['isHome']\n",
        "  new_df['x'] = shotX\n",
        "  new_df['y'] = shotY\n",
        "  new_df['distance'] = distances\n",
        "  new_df['angle'] = angles\n",
        "  new_df['situation'] = df['situation']\n",
        "  new_df['bodyPart'] = bodyParts\n",
        "  new_df['xg'] = df['xg']\n",
        "  new_df['goal'] = goals\n",
        "  print(\"Dataframe Done.\")\n",
        "  return new_df"
      ],
      "metadata": {
        "id": "xL53FGJy0vZA"
      },
      "execution_count": 16,
      "outputs": []
    },
    {
      "cell_type": "markdown",
      "source": [
        "1.12) **Storing the Shotmap**: Given a match and its index in the schedule, its shotmap gets saved in a csv file in Google Drive.not databases yet :("
      ],
      "metadata": {
        "id": "4nN15GW_2d27"
      }
    },
    {
      "cell_type": "code",
      "source": [
        "def storeSingleGame(game, gameIndex, filename):\n",
        "  shotmap = getSmallShotmap(game)\n",
        "  shotmap['index'] = gameIndex\n",
        "  shotmap['round'] = game['round']\n",
        "  shotmap['homeTeam'] = game['home_team']\n",
        "  shotmap['awayTeam'] = game['away_team']\n",
        "  shotmap = shotmap[['index', 'round', 'homeTeam', 'awayTeam', 'xg', 'goal', 'minute', 'goalDifference', 'player', 'playerID', 'position', 'rating', 'team', 'eloTeam', 'keeper', 'keeperID', 'keeperRating', 'opponent', 'eloOpponent', 'isHome', 'x', 'y', 'distance', 'angle', 'situation', 'bodyPart']]\n",
        "  if(gameIndex==0):\n",
        "    shotmap.to_csv(basePath + filename + '.csv', header=True, index=False)\n",
        "  else:\n",
        "    shotmap.to_csv(basePath + filename + '.csv', mode='a', header=False, index=False)"
      ],
      "metadata": {
        "id": "KDFwE9Fj2q03"
      },
      "execution_count": 17,
      "outputs": []
    },
    {
      "cell_type": "markdown",
      "source": [
        "# 2) Building the Dataset"
      ],
      "metadata": {
        "id": "ombzp-Lr319f"
      }
    },
    {
      "cell_type": "code",
      "source": [
        "league = \"ITA-Serie A\"\n",
        "season = \"23-24\"\n",
        "sofifaAll = sd.SoFIFA(leagues=league, versions=\"all\")\n",
        "versions = sofifaAll.read_versions()\n",
        "elo = sd.ClubElo()\n",
        "sofa = sd.Sofascore(leagues=league, seasons=season)\n",
        "schedule = sofa.read_schedule()\n",
        "schedule = schedule.droplevel([0,1])\n",
        "schedule = schedule.reset_index()"
      ],
      "metadata": {
        "colab": {
          "base_uri": "https://localhost:8080/",
          "height": 66
        },
        "id": "B4cCQvGE36bN",
        "outputId": "743edbfe-c89c-47f1-f167-36a454acb0c9"
      },
      "execution_count": null,
      "outputs": [
        {
          "output_type": "display_data",
          "data": {
            "text/plain": [
              "\u001b[2;36m[12/11/24 08:23:00]\u001b[0m\u001b[2;36m \u001b[0m\u001b[34mINFO    \u001b[0m Saving cached data to \u001b[35m/root/soccerdata/data/\u001b[0m\u001b[95mSoFIFA\u001b[0m                      \u001b]8;id=32455;file:///usr/local/lib/python3.10/dist-packages/soccerdata/_common.py\u001b\\\u001b[2m_common.py\u001b[0m\u001b]8;;\u001b\\\u001b[2m:\u001b[0m\u001b]8;id=421281;file:///usr/local/lib/python3.10/dist-packages/soccerdata/_common.py#263\u001b\\\u001b[2m263\u001b[0m\u001b]8;;\u001b\\\n"
            ],
            "text/html": [
              "<pre style=\"white-space:pre;overflow-x:auto;line-height:normal;font-family:Menlo,'DejaVu Sans Mono',consolas,'Courier New',monospace\"><span style=\"color: #7fbfbf; text-decoration-color: #7fbfbf\">[12/11/24 08:23:00] </span><span style=\"color: #000080; text-decoration-color: #000080\">INFO    </span> Saving cached data to <span style=\"color: #800080; text-decoration-color: #800080\">/root/soccerdata/data/</span><span style=\"color: #ff00ff; text-decoration-color: #ff00ff\">SoFIFA</span>                      <a href=\"file:///usr/local/lib/python3.10/dist-packages/soccerdata/_common.py\" target=\"_blank\"><span style=\"color: #7f7f7f; text-decoration-color: #7f7f7f\">_common.py</span></a><span style=\"color: #7f7f7f; text-decoration-color: #7f7f7f\">:</span><a href=\"file:///usr/local/lib/python3.10/dist-packages/soccerdata/_common.py#263\" target=\"_blank\"><span style=\"color: #7f7f7f; text-decoration-color: #7f7f7f\">263</span></a>\n",
              "</pre>\n"
            ]
          },
          "metadata": {}
        },
        {
          "output_type": "display_data",
          "data": {
            "text/plain": [
              "\u001b[2;36m[12/11/24 08:23:27]\u001b[0m\u001b[2;36m \u001b[0m\u001b[34mINFO    \u001b[0m Saving cached data to \u001b[35m/root/soccerdata/data/\u001b[0m\u001b[95mClubElo\u001b[0m                     \u001b]8;id=447305;file:///usr/local/lib/python3.10/dist-packages/soccerdata/_common.py\u001b\\\u001b[2m_common.py\u001b[0m\u001b]8;;\u001b\\\u001b[2m:\u001b[0m\u001b]8;id=94438;file:///usr/local/lib/python3.10/dist-packages/soccerdata/_common.py#263\u001b\\\u001b[2m263\u001b[0m\u001b]8;;\u001b\\\n"
            ],
            "text/html": [
              "<pre style=\"white-space:pre;overflow-x:auto;line-height:normal;font-family:Menlo,'DejaVu Sans Mono',consolas,'Courier New',monospace\"><span style=\"color: #7fbfbf; text-decoration-color: #7fbfbf\">[12/11/24 08:23:27] </span><span style=\"color: #000080; text-decoration-color: #000080\">INFO    </span> Saving cached data to <span style=\"color: #800080; text-decoration-color: #800080\">/root/soccerdata/data/</span><span style=\"color: #ff00ff; text-decoration-color: #ff00ff\">ClubElo</span>                     <a href=\"file:///usr/local/lib/python3.10/dist-packages/soccerdata/_common.py\" target=\"_blank\"><span style=\"color: #7f7f7f; text-decoration-color: #7f7f7f\">_common.py</span></a><span style=\"color: #7f7f7f; text-decoration-color: #7f7f7f\">:</span><a href=\"file:///usr/local/lib/python3.10/dist-packages/soccerdata/_common.py#263\" target=\"_blank\"><span style=\"color: #7f7f7f; text-decoration-color: #7f7f7f\">263</span></a>\n",
              "</pre>\n"
            ]
          },
          "metadata": {}
        },
        {
          "output_type": "display_data",
          "data": {
            "text/plain": [
              "\u001b[2;36m                   \u001b[0m\u001b[2;36m \u001b[0m\u001b[34mINFO    \u001b[0m Saving cached data to \u001b[35m/root/soccerdata/data/\u001b[0m\u001b[95mSofascore\u001b[0m                   \u001b]8;id=348368;file:///usr/local/lib/python3.10/dist-packages/soccerdata/_common.py\u001b\\\u001b[2m_common.py\u001b[0m\u001b]8;;\u001b\\\u001b[2m:\u001b[0m\u001b]8;id=29759;file:///usr/local/lib/python3.10/dist-packages/soccerdata/_common.py#263\u001b\\\u001b[2m263\u001b[0m\u001b]8;;\u001b\\\n"
            ],
            "text/html": [
              "<pre style=\"white-space:pre;overflow-x:auto;line-height:normal;font-family:Menlo,'DejaVu Sans Mono',consolas,'Courier New',monospace\"><span style=\"color: #7fbfbf; text-decoration-color: #7fbfbf\">                    </span><span style=\"color: #000080; text-decoration-color: #000080\">INFO    </span> Saving cached data to <span style=\"color: #800080; text-decoration-color: #800080\">/root/soccerdata/data/</span><span style=\"color: #ff00ff; text-decoration-color: #ff00ff\">Sofascore</span>                   <a href=\"file:///usr/local/lib/python3.10/dist-packages/soccerdata/_common.py\" target=\"_blank\"><span style=\"color: #7f7f7f; text-decoration-color: #7f7f7f\">_common.py</span></a><span style=\"color: #7f7f7f; text-decoration-color: #7f7f7f\">:</span><a href=\"file:///usr/local/lib/python3.10/dist-packages/soccerdata/_common.py#263\" target=\"_blank\"><span style=\"color: #7f7f7f; text-decoration-color: #7f7f7f\">263</span></a>\n",
              "</pre>\n"
            ]
          },
          "metadata": {}
        }
      ]
    },
    {
      "cell_type": "code",
      "source": [
        "for i in schedule.index:\n",
        "  game = schedule.loc[i]\n",
        "  print(\"Week \" + str(game['week']) + \": \" + game['home_team'] + \" - \" + game['away_team'])\n",
        "  storeSingleGame(schedule.loc[i], i, 'seriea2324')\n",
        "  output.clear()"
      ],
      "metadata": {
        "id": "4pHWCbxB44Va"
      },
      "execution_count": null,
      "outputs": []
    },
    {
      "cell_type": "code",
      "source": [
        "league = \"ITA-Serie A\"\n",
        "season = \"22-23\"\n",
        "sofifaAll = sd.SoFIFA(leagues=league, versions=\"all\")\n",
        "versions = sofifaAll.read_versions()\n",
        "elo = sd.ClubElo()\n",
        "sofa = sd.Sofascore(leagues=league, seasons=season)\n",
        "schedule = sofa.read_schedule()\n",
        "schedule = schedule.droplevel([0,1])\n",
        "schedule = schedule.reset_index()\n",
        "for i in schedule.index:\n",
        "  game = schedule.loc[i]\n",
        "  print(\"Week \" + str(game['week']) + \": \" + game['home_team'] + \" - \" + game['away_team'])\n",
        "  storeSingleGame(schedule.loc[i], i, 'seriea2223')\n",
        "  output.clear()"
      ],
      "metadata": {
        "id": "Bl1u0bZJuZk0"
      },
      "execution_count": null,
      "outputs": []
    },
    {
      "cell_type": "code",
      "source": [
        "df2223 = pd.read_csv(basePath + 'seriea2223_new.csv')\n",
        "df2324 = pd.read_csv(basePath + 'seriea2324_new.csv')\n",
        "\n",
        "dfJoined = pd.concat([df2223, df2324])\n",
        "dfJoined.to_csv(basePath + 'seriea_joined_new.csv')"
      ],
      "metadata": {
        "id": "s-x5duR01ZIV"
      },
      "execution_count": null,
      "outputs": []
    },
    {
      "cell_type": "markdown",
      "source": [
        "# 3) Building Model"
      ],
      "metadata": {
        "id": "wNMYjFIJDEnr"
      }
    },
    {
      "cell_type": "markdown",
      "source": [
        "3.1) **Preprocessing**: The original dataset is preprocessed by:\n",
        "\n",
        "*   Removing shots with NaN values for xG\n",
        "*   Removing shots made by goalkeepers\n",
        "*   Executing *One-Hot Encoding* on *Position*, *Situation* and *Body Part*\n",
        "*   *Normalizing* ratings, elo ratings, distance and angle\n",
        "*   Removing unnecessary parameters (Non numerical values)\n",
        "\n"
      ],
      "metadata": {
        "id": "K29D2MynDInu"
      }
    },
    {
      "cell_type": "code",
      "source": [
        "def cleanDataset(df, elo=True, minute=False, home=False, split=False):\n",
        "  df = df.dropna(subset=['xg'])\n",
        "  df = df.loc[df['position'] != 'G']\n",
        "  # One-Hot Encoding\n",
        "  x = pd.get_dummies(df, columns=['position'], prefix='position', drop_first=False)\n",
        "  x = pd.get_dummies(x, columns=['situation'], prefix='situation', drop_first=False)\n",
        "  x = pd.get_dummies(x, columns=['bodyPart'], prefix='bodyPart', drop_first=False)\n",
        "\n",
        "\n",
        "\n",
        "  # Normalizations\n",
        "  if minute == True:\n",
        "    x['minute'] = x['minute']/90\n",
        "  x['rating'] = x['rating']/100\n",
        "  if elo == True:\n",
        "    x['eloTeam'] = x['eloTeam']/2168\n",
        "  x['keeperRating'] = (x['keeperRating'].astype(int))/100\n",
        "  if elo == True:\n",
        "    x['eloOpponent'] = x['eloOpponent']/2168\n",
        "  x['distance'] = x['distance']/120\n",
        "  x['angle'] = x['angle']/90\n",
        "\n",
        "  # Conversions\n",
        "  x['position_D'] = x['position_D'].astype(int) # Defender\n",
        "  x['position_F'] = x['position_F'].astype(int) # Forward\n",
        "  x['position_M'] = x['position_M'].astype(int) # Midfielder\n",
        "\n",
        "  x['situation_assisted'] = x['situation_assisted'].astype(int)\n",
        "  x['situation_corner'] = x['situation_corner'].astype(int)\n",
        "  x['situation_fast-break'] = x['situation_fast-break'].astype(int)\n",
        "  x['situation_free-kick'] = x['situation_free-kick'].astype(int)\n",
        "  x['situation_penalty'] = x['situation_penalty'].astype(int)\n",
        "  x['situation_regular'] = x['situation_regular'].astype(int)\n",
        "  x['situation_set-piece'] = x['situation_set-piece'].astype(int)\n",
        "  x['situation_throw-in-set-piece'] = x['situation_throw-in-set-piece'].astype(int)\n",
        "\n",
        "  x['bodyPart_head'] = x['bodyPart_head'].astype(int)\n",
        "  x['bodyPart_weak-foot'] = x['bodyPart_weak-foot'].astype(int)\n",
        "  x['bodyPart_other'] = x['bodyPart_other'].astype(int)\n",
        "  x['bodyPart_strong-foot'] = x['bodyPart_strong-foot'].astype(int)\n",
        "\n",
        "  y = df['goal']\n",
        "\n",
        "  x['isHome'] = x['isHome'].astype(int)\n",
        "  if split==False:\n",
        "    x = x.drop(columns=['index'])\n",
        "  else:\n",
        "    y = pd.DataFrame(y)\n",
        "    y['index'] = x['index']\n",
        "  if home==True:\n",
        "    x = x.drop(columns=['goal', 'player', 'team', 'keeper', 'opponent', 'x', 'y', 'xg', 'homeTeam', 'awayTeam', 'round'])\n",
        "  else:\n",
        "    x = x.drop(columns=['goal', 'player', 'team', 'keeper', 'opponent', 'isHome', 'x', 'y', 'xg', 'homeTeam', 'awayTeam', 'round'])\n",
        "  return x, y"
      ],
      "metadata": {
        "id": "mRFa5zbhD19k"
      },
      "execution_count": 18,
      "outputs": []
    },
    {
      "cell_type": "markdown",
      "source": [
        "3.2) **Splitting Games**: Train-Test Split has been made based on matches instead of general shots. That assures to have all the shots from a single game in the train/test dataset."
      ],
      "metadata": {
        "id": "J_aPrco2sa7T"
      }
    },
    {
      "cell_type": "code",
      "source": [
        "def splitGames(elo=False):\n",
        "  df = pd.read_csv('/content/drive/MyDrive/AI/seriea_joined_new_ordered.csv')\n",
        "  df = df.drop(columns=['Unnamed: 0'])\n",
        "  if elo==False:\n",
        "    df = df.drop(columns=['eloTeam', 'eloOpponent'])\n",
        "  x, y = cleanDataset(df, elo=False, minute=True, home=True, split=True)\n",
        "\n",
        "\n",
        "\n",
        "  trainingIndexes = np.unique(df['index']).tolist()\n",
        "  rng = np.random.default_rng(seed=42)\n",
        "  randomNumbers = rng.choice(trainingIndexes, size=152, replace=False)\n",
        "  testIndexes = []\n",
        "  for rn in randomNumbers:\n",
        "    trainingIndexes.remove(rn)\n",
        "    testIndexes.append(rn)\n",
        "  X_test = x.loc[x['index'].isin(testIndexes)]\n",
        "  X_train = x.loc[x['index'].isin(trainingIndexes)]\n",
        "  y_test = y.loc[y['index'].isin(testIndexes)]\n",
        "  y_train = y.loc[y['index'].isin(trainingIndexes)]\n",
        "  X_test = X_test.drop(columns=['index'])\n",
        "  y_test = y_test.drop(columns=['index'])\n",
        "  X_train = X_train.drop(columns=['index'])\n",
        "  y_train = y_train.drop(columns=['index'])\n",
        "  return X_train, X_test, y_train, y_test"
      ],
      "metadata": {
        "id": "7DQ8yQ6YswZ0"
      },
      "execution_count": 19,
      "outputs": []
    },
    {
      "cell_type": "markdown",
      "source": [
        "3.3) **Parameter Tuning**: Parameter Tuning is made by a GridSearch, aiming to get the parameters that reach the best *recall*."
      ],
      "metadata": {
        "id": "QlnwHKPKGgUz"
      }
    },
    {
      "cell_type": "code",
      "source": [
        "df = pd.read_csv(basePath + \"seriea_joined_new.csv\")\n",
        "\n",
        "df = df.dropna(subset=['xg'])\n",
        "\n",
        "x, y = cleanDataset(df, elo=True, minute=True)\n",
        "\n",
        "X_train, X_test, y_train, y_test = train_test_split(x, y, test_size=0.2, random_state=42)\n",
        "\n",
        "# RandomForest\n",
        "\n",
        "param_grid = {\n",
        "    'n_estimators': [25, 50, 100, 150],\n",
        "    'max_features': ['sqrt', 'log2', None],\n",
        "    'max_depth': [3, 6, 9],\n",
        "    'max_leaf_nodes': [3, 6, 9],\n",
        "}\n",
        "\n",
        "grid_search = GridSearchCV(RandomForestClassifier(), param_grid=param_grid, scoring='f1_micro')\n",
        "grid_search.fit(X_train, y_train)\n",
        "print(grid_search.best_estimator_)\n",
        "\n",
        "# AdaBoost\n",
        "\n",
        "param_grid = {\n",
        "    'learning_rate':[0.01, 0.05, 0.1, 0.25, 0.5, 1],\n",
        "    'n_estimators':[10 , 20, 50, 100, 200]\n",
        "}\n",
        "grid_search = GridSearchCV(AdaBoostClassifier(algorithm=\"SAMME\"), param_grid=param_grid, scoring='f1_micro')\n",
        "grid_search.fit(X_train, y_train)\n",
        "print(grid_search.best_estimator_)\n",
        "\n",
        "# XGBoost\n",
        "\n",
        "param_grid = {\n",
        "    'n_estimators': [100, 400, 800],\n",
        "    'max_depth': [3, 6, 9],\n",
        "    'learning_rate': [0.05, 0.1, 0.20],\n",
        "    'min_child_weight': [1, 10, 100]\n",
        "    }\n",
        "grid_search = GridSearchCV(XGBClassifier(), param_grid=param_grid, scoring='f1_micro')\n",
        "grid_search.fit(X_train, y_train)\n",
        "print(grid_search.best_params_)"
      ],
      "metadata": {
        "id": "Z9cJPwVHG0dB"
      },
      "execution_count": null,
      "outputs": []
    },
    {
      "cell_type": "markdown",
      "source": [
        "3.4) **Model Build**: The model is built by:\n",
        "\n",
        "\n",
        "*   *Preprocessing* Data\n",
        "*   Splitting Data in Train and Test Dataset\n",
        "*   *Oversampling* Data (Random Oversampling, SMOTE, or ADASYN) (optional)\n",
        "*   Creating the model (*XGBoost*, *Random Forest* or *AdaBoost*)\n",
        "*   Making Predictions\n",
        "*   Printing Evaluation Metrics values\n",
        "\n"
      ],
      "metadata": {
        "id": "N3lqe4BLEZsq"
      }
    },
    {
      "cell_type": "code",
      "source": [
        "def getPredictions(df, alg='xgb', test_size=0.2, weights=False, tuned=True, est=1000, eta=0.1, depth=100, elo=False, over=\"none\", k=0, sampling_strategy='none', minute=False, home=False, split=True):\n",
        "    df = df.dropna(subset=['xg'])\n",
        "\n",
        "    x, y = cleanDataset(df, elo, minute=minute, home=home, split=split)\n",
        "\n",
        "    # Splitting\n",
        "    if split==False:\n",
        "      X_train, X_test, y_train, y_test = train_test_split(x, y, test_size=test_size, random_state=42)\n",
        "    else:\n",
        "      X_train, X_test, y_train, y_test = splitGames(elo)\n",
        "\n",
        "    # Oversampling - Random Oversampling\n",
        "    if(over == \"random\"):\n",
        "      oversample = RandomOverSampler(sampling_strategy=0.25, random_state=42)\n",
        "      X_train_aug, y_train_aug = oversample.fit_resample(X_train, y_train)\n",
        "    # Oversampling - SMOTE\n",
        "    elif(over == \"smote\"):\n",
        "      if(k!=0):\n",
        "        smt = SMOTE(k_neighbors=k, random_state=42)\n",
        "      else:\n",
        "        if(sampling_strategy=='none'):\n",
        "          smt = SMOTE(random_state=42)\n",
        "        else:\n",
        "          smt = SMOTE(sampling_strategy=sampling_strategy, random_state=42)\n",
        "      X_train_aug, y_train_aug = smt.fit_resample(X_train, y_train)\n",
        "    # Oversampling - ADASYN\n",
        "    elif(over == \"adasyn\"):\n",
        "      ada = ADASYN(random_state=42)\n",
        "      X_train_aug, y_train_aug = ada.fit_resample(X_train, y_train)\n",
        "    # Algorithm Selection\n",
        "    # Algorithm - XGBoost\n",
        "    if alg == \"xgb\":\n",
        "      if tuned == False:\n",
        "        model = XGBClassifier(scale_pos_weight=0.01)\n",
        "      else:\n",
        "        model = XGBClassifier(n_estimators=100, max_depth=6, learning_rate=0.05, min_child_weight=10) # f1_micro\n",
        "    # Algorithm - Random Forest\n",
        "    elif alg == 'forest':\n",
        "      model = RandomForestClassifier(max_depth=3, max_features=None, max_leaf_nodes=6) # f1_micro\n",
        "    # Algorithm - AdaBoost\n",
        "    elif alg == 'adaboost':\n",
        "      model = AdaBoostClassifier(algorithm='SAMME', learning_rate=0.5, n_estimators=200) #f1_micro\n",
        "\n",
        "    if(over != 'none'):\n",
        "      print(str(len(X_train_aug)-len(X_train)) + \" Samples Created\")\n",
        "\n",
        "      model.fit(X_train_aug, y_train_aug)\n",
        "    else:\n",
        "      model.fit(X_train, y_train)\n",
        "    # Making Predictions\n",
        "    pred = model.predict(X_test)\n",
        "    y_pred_prob = model.predict_proba(X_test)[:, 1]\n",
        "\n",
        "    # Printing Evaluation Metrics\n",
        "    accuracy = model.score(X_test, y_test)\n",
        "    print(\"Accuracy: \" + str(round(accuracy, 2)))\n",
        "    auc = roc_auc_score(y_test, y_pred_prob)\n",
        "    print(\"AUC: \" + str(round(auc, 2)))\n",
        "    precision = precision_score(y_test, pred)\n",
        "    print(\"Precision: \" + str(round(precision, 2)))\n",
        "    recall = recall_score(y_test, pred)\n",
        "    print(\"Recall: \" + str(round(recall, 2)))\n",
        "    f1 = f1_score(y_test, pred)\n",
        "    print(\"F1 Score: \" + str(round(f1, 2)))\n",
        "    mcc = matthews_corrcoef(y_test, pred)\n",
        "    print(\"New MCC: \" + str(round(mcc, 2)))\n",
        "    metrics = {\n",
        "        \"accuracy\": accuracy,\n",
        "        \"auc\": auc,\n",
        "        \"precision\": precision,\n",
        "        \"recall\": recall,\n",
        "        \"f1\": f1,\n",
        "        \"mcc\": mcc\n",
        "    }\n",
        "    return model, X_train, metrics"
      ],
      "metadata": {
        "id": "1Oay-I22FTtc"
      },
      "execution_count": 20,
      "outputs": []
    },
    {
      "cell_type": "markdown",
      "source": [
        "3.4) **Cross Validation**"
      ],
      "metadata": {
        "id": "0hv-4yIQKVop"
      }
    },
    {
      "cell_type": "code",
      "source": [
        "from statistics import mean, stdev\n",
        "df = pd.read_csv(basePath + \"seriea_joined_new.csv\")\n",
        "df = df.drop(columns=['minute'])\n",
        "df = df.drop(columns=['eloTeam', 'eloOpponent'])\n",
        "df = df.dropna(subset=['xg'])\n",
        "# df = df.drop(columns=['minute'])\n",
        "# df = df[df.situation != \"penalty\"]\n",
        "model = XGBClassifier(n_estimators=100, max_depth=6, learning_rate=0.1, min_child_weight=10) # f1_micro\n",
        "# model = RandomForestClassifier(max_depth=6, max_features=None, max_leaf_nodes=9, n_estimators=25) # f1_micro\n",
        "# model = AdaBoostClassifier(algorithm='SAMME', learning_rate=1, n_estimators=200) #f1_micro\n",
        "x, y = cleanDataset(df, elo=True, minute=True)\n",
        "# Create StratifiedKFold object.\n",
        "\n",
        "skf = StratifiedKFold(n_splits=5, shuffle=True, random_state=1)\n",
        "lst_accu_stratified = []\n",
        "lst_auc_stratified = []\n",
        "lst_prec_stratified = []\n",
        "lst_rec_stratified = []\n",
        "lst_f1_stratified = []\n",
        "ada = ADASYN(random_state=42)\n",
        "smt = SMOTE(random_state=42)\n",
        "\n",
        "\n",
        "for train_index, test_index in skf.split(x, y):\n",
        "    x_train_fold, x_test_fold = x.iloc[train_index], x.iloc[test_index]\n",
        "    y_train_fold, y_test_fold = y.iloc[train_index], y.iloc[test_index]\n",
        "    # x_train_fold_aug, y_train_fold_aug = ada.fit_resample(x_train_fold, y_train_fold)\n",
        "    x_train_fold_aug, y_train_fold_aug = smt.fit_resample(x_train_fold, y_train_fold)\n",
        "    # model.fit(x_train_fold_aug, y_train_fold_aug)\n",
        "    model.fit(x_train_fold, y_train_fold)\n",
        "    pred_fold = model.predict(x_test_fold)\n",
        "    y_pred_prob_fold = model.predict_proba(x_test_fold)[:, 1]\n",
        "    auc = roc_auc_score(y_test_fold, y_pred_prob_fold)\n",
        "    precision = precision_score(y_test_fold, pred_fold)\n",
        "    recall = recall_score(y_test_fold, pred_fold)\n",
        "    f1 = f1_score(y_test_fold, pred_fold)\n",
        "    lst_accu_stratified.append(model.score(x_test_fold, y_test_fold))\n",
        "    lst_auc_stratified.append(auc)\n",
        "    lst_prec_stratified.append(precision)\n",
        "    lst_rec_stratified.append(recall)\n",
        "    lst_f1_stratified.append(f1)\n",
        "\n",
        "# Print the output.\n",
        "# print('List of possible accuracy:', lst_accu_stratified)\n",
        "# print('\\nMaximum Accuracy That can be obtained from this model is:',\n",
        "#       max(lst_accu_stratified)*100, '%')\n",
        "# print('\\nMinimum Accuracy:',\n",
        "#       min(lst_accu_stratified)*100, '%')\n",
        "# print('\\nOverall Accuracy:',\n",
        "#       mean(lst_accu_stratified)*100, '%')\n",
        "# print('\\nStandard Deviation is:', stdev(lst_accu_stratified))\n",
        "\n",
        "print('List of possible AUC:', lst_auc_stratified)\n",
        "print('\\nMaximum F1 Score:',\n",
        "      max(lst_auc_stratified)*100, '%')\n",
        "print('\\nMinimum AUC:',\n",
        "      min(lst_auc_stratified)*100, '%')\n",
        "print('\\nOverall AUC:',\n",
        "      mean(lst_auc_stratified)*100, '%')\n",
        "print('\\nStandard Deviation is:', stdev(lst_auc_stratified))\n",
        "\n",
        "print('List of possible precision:', lst_prec_stratified)\n",
        "print('\\nMaximum F1 Score:',\n",
        "      max(lst_prec_stratified)*100, '%')\n",
        "print('\\nMinimum precision:',\n",
        "      min(lst_prec_stratified)*100, '%')\n",
        "print('\\nOverall precision:',\n",
        "      mean(lst_prec_stratified)*100, '%')\n",
        "print('\\nStandard Deviation is:', stdev(lst_prec_stratified))\n",
        "\n",
        "print('List of possible recall:', lst_rec_stratified)\n",
        "print('\\nMaximum F1 Score:',\n",
        "      max(lst_rec_stratified)*100, '%')\n",
        "print('\\nMinimum recall:',\n",
        "      min(lst_rec_stratified)*100, '%')\n",
        "print('\\nOverall recall:',\n",
        "      mean(lst_rec_stratified)*100, '%')\n",
        "print('\\nStandard Deviation is:', stdev(lst_rec_stratified))\n",
        "\n",
        "print('List of possible F1 Score:', lst_f1_stratified)\n",
        "print('\\nMaximum F1 Score:',\n",
        "      max(lst_f1_stratified)*100, '%')\n",
        "print('\\nMinimum F1 Score:',\n",
        "      min(lst_f1_stratified)*100, '%')\n",
        "print('\\nOverall F1 Score:',\n",
        "      mean(lst_f1_stratified)*100, '%')\n",
        "print('\\nStandard F1 Score is:', stdev(lst_f1_stratified))"
      ],
      "metadata": {
        "id": "3NokSU-IKXle"
      },
      "execution_count": null,
      "outputs": []
    },
    {
      "cell_type": "code",
      "source": [
        "df = pd.read_csv(basePath + \"seriea_joined_new.csv\")\n",
        "model, X_train, metrics = getPredictions(df, alg=\"forest\", elo=True, minute=True)\n",
        "joblib.dump(model, basePath + 'modelFiles/' + 'OLD_base_XGB_elo' + '.sav')"
      ],
      "metadata": {
        "id": "DrwcT3TaLKxz",
        "colab": {
          "base_uri": "https://localhost:8080/"
        },
        "outputId": "5616096d-6c19-48a6-c496-b2739eefb45d"
      },
      "execution_count": null,
      "outputs": [
        {
          "output_type": "stream",
          "name": "stdout",
          "text": [
            "Accuracy: 0.91\n",
            "AUC: 0.78\n",
            "Precision: 0.67\n",
            "Recall: 0.18\n",
            "F1 Score: 0.28\n",
            "New MCC: 0.31\n"
          ]
        },
        {
          "output_type": "execute_result",
          "data": {
            "text/plain": [
              "['/content/drive/MyDrive/AI/modelFiles/OLD_base_XGB_elo.sav']"
            ]
          },
          "metadata": {},
          "execution_count": 52
        }
      ]
    },
    {
      "cell_type": "markdown",
      "source": [
        "# 4) Model Evaluation"
      ],
      "metadata": {
        "id": "cBDW1jmlHOrf"
      }
    },
    {
      "cell_type": "markdown",
      "source": [
        "The model is evaluated by testing the total xG predicted on all of the 2024/25 Serie A games played so far (13 rounds). The xG sum is then compared to the actual goals scored and to Sofascore's xG sum."
      ],
      "metadata": {
        "id": "Qa8PHc6nHW7f"
      }
    },
    {
      "cell_type": "markdown",
      "source": [
        "4.1) **Storing 2024/25 Shots**: The *storeSingleGame* function is used as before to store the new games, in order to predict them locally."
      ],
      "metadata": {
        "id": "tbYFerk3H54q"
      }
    },
    {
      "cell_type": "code",
      "source": [
        "league = \"ITA-Serie A\"\n",
        "season = \"24-25\"\n",
        "sofifaAll = sd.SoFIFA(leagues=league, versions=\"all\")\n",
        "versions = sofifaAll.read_versions()\n",
        "elo = sd.ClubElo()\n",
        "sofa = sd.Sofascore(leagues=league, seasons=season)\n",
        "schedule = sofa.read_schedule()\n",
        "schedule = schedule.droplevel([0,1])\n",
        "schedule = schedule.reset_index()"
      ],
      "metadata": {
        "id": "pLLsYTs0IZVK",
        "colab": {
          "base_uri": "https://localhost:8080/",
          "height": 66
        },
        "outputId": "bb9d4b06-4b3f-450e-9816-b1ec304e1c43"
      },
      "execution_count": 21,
      "outputs": [
        {
          "output_type": "display_data",
          "data": {
            "text/plain": [
              "\u001b[2;36m[01/07/25 17:23:59]\u001b[0m\u001b[2;36m \u001b[0m\u001b[34mINFO    \u001b[0m Saving cached data to \u001b[35m/root/soccerdata/data/\u001b[0m\u001b[95mSoFIFA\u001b[0m                      \u001b]8;id=221302;file:///usr/local/lib/python3.10/dist-packages/soccerdata/_common.py\u001b\\\u001b[2m_common.py\u001b[0m\u001b]8;;\u001b\\\u001b[2m:\u001b[0m\u001b]8;id=950162;file:///usr/local/lib/python3.10/dist-packages/soccerdata/_common.py#263\u001b\\\u001b[2m263\u001b[0m\u001b]8;;\u001b\\\n"
            ],
            "text/html": [
              "<pre style=\"white-space:pre;overflow-x:auto;line-height:normal;font-family:Menlo,'DejaVu Sans Mono',consolas,'Courier New',monospace\"><span style=\"color: #7fbfbf; text-decoration-color: #7fbfbf\">[01/07/25 17:23:59] </span><span style=\"color: #000080; text-decoration-color: #000080\">INFO    </span> Saving cached data to <span style=\"color: #800080; text-decoration-color: #800080\">/root/soccerdata/data/</span><span style=\"color: #ff00ff; text-decoration-color: #ff00ff\">SoFIFA</span>                      <a href=\"file:///usr/local/lib/python3.10/dist-packages/soccerdata/_common.py\" target=\"_blank\"><span style=\"color: #7f7f7f; text-decoration-color: #7f7f7f\">_common.py</span></a><span style=\"color: #7f7f7f; text-decoration-color: #7f7f7f\">:</span><a href=\"file:///usr/local/lib/python3.10/dist-packages/soccerdata/_common.py#263\" target=\"_blank\"><span style=\"color: #7f7f7f; text-decoration-color: #7f7f7f\">263</span></a>\n",
              "</pre>\n"
            ]
          },
          "metadata": {}
        },
        {
          "output_type": "display_data",
          "data": {
            "text/plain": [
              "\u001b[2;36m[01/07/25 17:24:26]\u001b[0m\u001b[2;36m \u001b[0m\u001b[34mINFO    \u001b[0m Saving cached data to \u001b[35m/root/soccerdata/data/\u001b[0m\u001b[95mClubElo\u001b[0m                     \u001b]8;id=458257;file:///usr/local/lib/python3.10/dist-packages/soccerdata/_common.py\u001b\\\u001b[2m_common.py\u001b[0m\u001b]8;;\u001b\\\u001b[2m:\u001b[0m\u001b]8;id=340229;file:///usr/local/lib/python3.10/dist-packages/soccerdata/_common.py#263\u001b\\\u001b[2m263\u001b[0m\u001b]8;;\u001b\\\n"
            ],
            "text/html": [
              "<pre style=\"white-space:pre;overflow-x:auto;line-height:normal;font-family:Menlo,'DejaVu Sans Mono',consolas,'Courier New',monospace\"><span style=\"color: #7fbfbf; text-decoration-color: #7fbfbf\">[01/07/25 17:24:26] </span><span style=\"color: #000080; text-decoration-color: #000080\">INFO    </span> Saving cached data to <span style=\"color: #800080; text-decoration-color: #800080\">/root/soccerdata/data/</span><span style=\"color: #ff00ff; text-decoration-color: #ff00ff\">ClubElo</span>                     <a href=\"file:///usr/local/lib/python3.10/dist-packages/soccerdata/_common.py\" target=\"_blank\"><span style=\"color: #7f7f7f; text-decoration-color: #7f7f7f\">_common.py</span></a><span style=\"color: #7f7f7f; text-decoration-color: #7f7f7f\">:</span><a href=\"file:///usr/local/lib/python3.10/dist-packages/soccerdata/_common.py#263\" target=\"_blank\"><span style=\"color: #7f7f7f; text-decoration-color: #7f7f7f\">263</span></a>\n",
              "</pre>\n"
            ]
          },
          "metadata": {}
        },
        {
          "output_type": "display_data",
          "data": {
            "text/plain": [
              "\u001b[2;36m                   \u001b[0m\u001b[2;36m \u001b[0m\u001b[34mINFO    \u001b[0m Saving cached data to \u001b[35m/root/soccerdata/data/\u001b[0m\u001b[95mSofascore\u001b[0m                   \u001b]8;id=619055;file:///usr/local/lib/python3.10/dist-packages/soccerdata/_common.py\u001b\\\u001b[2m_common.py\u001b[0m\u001b]8;;\u001b\\\u001b[2m:\u001b[0m\u001b]8;id=729209;file:///usr/local/lib/python3.10/dist-packages/soccerdata/_common.py#263\u001b\\\u001b[2m263\u001b[0m\u001b]8;;\u001b\\\n"
            ],
            "text/html": [
              "<pre style=\"white-space:pre;overflow-x:auto;line-height:normal;font-family:Menlo,'DejaVu Sans Mono',consolas,'Courier New',monospace\"><span style=\"color: #7fbfbf; text-decoration-color: #7fbfbf\">                    </span><span style=\"color: #000080; text-decoration-color: #000080\">INFO    </span> Saving cached data to <span style=\"color: #800080; text-decoration-color: #800080\">/root/soccerdata/data/</span><span style=\"color: #ff00ff; text-decoration-color: #ff00ff\">Sofascore</span>                   <a href=\"file:///usr/local/lib/python3.10/dist-packages/soccerdata/_common.py\" target=\"_blank\"><span style=\"color: #7f7f7f; text-decoration-color: #7f7f7f\">_common.py</span></a><span style=\"color: #7f7f7f; text-decoration-color: #7f7f7f\">:</span><a href=\"file:///usr/local/lib/python3.10/dist-packages/soccerdata/_common.py#263\" target=\"_blank\"><span style=\"color: #7f7f7f; text-decoration-color: #7f7f7f\">263</span></a>\n",
              "</pre>\n"
            ]
          },
          "metadata": {}
        }
      ]
    },
    {
      "cell_type": "code",
      "source": [
        "\n",
        "scheduleDone = schedule.loc[schedule['week'] <= 18]\n",
        "for i in scheduleDone.index:\n",
        "  game = scheduleDone.loc[i]\n",
        "  storeSingleGame(game, i, 'seriea2425')"
      ],
      "metadata": {
        "id": "ZCwUcwC17XK-"
      },
      "execution_count": null,
      "outputs": []
    },
    {
      "cell_type": "markdown",
      "source": [
        "4.2) **Predict Single Game**: The function gets the shots from the specific game, extracts the shots for home team and away team, cleans them and makes predictions on them. The stats returned by the function include:\n",
        "\n",
        "\n",
        "*   The base shotmap\n",
        "*   Home shots and Away shots\n",
        "*   Cleaned Home shots and Away shots\n",
        "*   Probabilities predicted for home team and away team\n",
        "*   Binarized predictions for home team and away team\n",
        "\n"
      ],
      "metadata": {
        "id": "ixv_3S9fIo23"
      }
    },
    {
      "cell_type": "code",
      "source": [
        "def predictLocalGame(game, model, elo=False, minute=False, home=False):\n",
        "  allShots = pd.read_csv(basePath + 'seriea2425_id.csv')\n",
        "  shotmap = allShots.loc[(allShots['homeTeam'] == game['home_team']) & (allShots['awayTeam'] == game['away_team'])]\n",
        "  shotmap = shotmap.reset_index()\n",
        "  shotmap = shotmap.drop(columns=['level_0'])\n",
        "  if minute==False:\n",
        "    shotmap = shotmap.drop(columns=['minute'])\n",
        "  shotmap = shotmap.drop(columns=['index', 'round', 'homeTeam', 'awayTeam'])\n",
        "  shotmap = shotmap.dropna(subset=['xg'])\n",
        "  shotmap = shotmap.loc[shotmap['position'] != 'G']\n",
        "  if elo==False:\n",
        "    shotmap = shotmap.drop(columns=['eloTeam', 'eloOpponent'])\n",
        "\n",
        "  homeShots = shotmap.loc[shotmap['isHome'] == True]\n",
        "  homeShots = homeShots.reset_index()\n",
        "  homeShots = homeShots.drop(columns=['index'])\n",
        "  awayShots = shotmap.loc[shotmap['isHome'] == False]\n",
        "  awayShots = awayShots.reset_index()\n",
        "  awayShots = awayShots.drop(columns=['index'])\n",
        "\n",
        "  df = pd.read_csv(basePath + 'seriea_joined_new.csv')\n",
        "  df = df.drop(columns=['Unnamed: 0'])\n",
        "  if minute==False:\n",
        "    df = df.drop(columns=['minute'])\n",
        "  if elo==False:\n",
        "    df = df.drop(columns=['eloTeam', 'eloOpponent'])\n",
        "  df_homeShots = pd.concat([df, homeShots]).reset_index()\n",
        "  df_homeShots = df_homeShots.drop(columns=['level_0', 'playerID', 'keeperID'])\n",
        "  df_x, df_y = cleanDataset(df_homeShots, elo=elo, minute=minute, home=home)\n",
        "\n",
        "  homeShots_clean = df_x.loc[len(df):]\n",
        "  homeXgPred = model.predict_proba(homeShots_clean)[:, 1]\n",
        "\n",
        "  homePred = model.predict(homeShots_clean)\n",
        "  homeShots['goalPred'] = homePred\n",
        "  homeShots['xgPred'] = homeXgPred\n",
        "  for i in homeShots.index:\n",
        "    if (homeShots.loc[i]['situation'] == 'penalty'):\n",
        "      homeShots.at[i, 'xgPred'] = 0.75\n",
        "    if (homeShots.loc[i]['xgPred'] == 0):\n",
        "      homeShots.at[i, 'xgPred'] = 0.01\n",
        "  homeShots['diff'] = homeShots['xgPred']-homeShots['xg']\n",
        "\n",
        "  df_awayShots = pd.concat([df, awayShots]).reset_index()\n",
        "  df_awayShots = df_awayShots.drop(columns=['level_0', 'playerID', 'keeperID'])\n",
        "  df_x, df_y = cleanDataset(df_awayShots, elo=elo, minute=minute, home=home)\n",
        "  awayShots_clean = df_x.loc[len(df):]\n",
        "  awayXgPred = model.predict_proba(awayShots_clean)[:, 1]\n",
        "  awayPred = model.predict(awayShots_clean)\n",
        "  awayShots['goalPred'] = awayPred\n",
        "  awayShots['xgPred'] = awayXgPred\n",
        "  for i in awayShots.index:\n",
        "    if (awayShots.loc[i]['situation'] == 'penalty'):\n",
        "      awayShots.at[i, 'xgPred'] = 0.75\n",
        "    if (awayShots.loc[i]['xgPred'] == 0):\n",
        "      awayShots.at[i, 'xgPred'] = 0.01\n",
        "  awayShots['diff'] = awayShots['xgPred']-awayShots['xg']\n",
        "\n",
        "\n",
        "\n",
        "\n",
        "\n",
        "  stats = {\n",
        "      \"shotmap\": shotmap,\n",
        "      \"homeShots\": homeShots,\n",
        "      \"awayShots\": awayShots,\n",
        "      \"homeShots_clean\": homeShots_clean,\n",
        "      \"awayShots_clean\": awayShots_clean,\n",
        "      \"homeXgPred\": homeXgPred,\n",
        "      \"homePred\": homePred,\n",
        "      \"awayXgPred\": awayXgPred,\n",
        "      \"awayPred\": awayPred\n",
        "  }\n",
        "  return stats"
      ],
      "metadata": {
        "id": "IIzspLRkI7U3"
      },
      "execution_count": 42,
      "outputs": []
    },
    {
      "cell_type": "markdown",
      "source": [
        "4.3) **Getting Prediction Stats for Single Shots**"
      ],
      "metadata": {
        "id": "-jQXr8cvJuhB"
      }
    },
    {
      "cell_type": "code",
      "source": [
        "def getAllShots(model, filename, scheduleDone, elo=False, minute=True, home=True):\n",
        "  roundIndex = 1\n",
        "  for i in scheduleDone.index:\n",
        "    game = scheduleDone.loc[i]\n",
        "    if(game['round'] != roundIndex):\n",
        "      output.clear()\n",
        "      roundIndex += 1\n",
        "    stats = predictLocalGame(game, model, elo=elo, minute=minute, home=home)\n",
        "    if minute == False:\n",
        "      shotsRecapHome = stats['homeShots'][['xg', 'xgPred', 'diff', 'x', 'y', 'distance', 'angle', 'goal', 'goalPred', 'player', 'playerID', 'rating', 'team', 'keeper', 'keeperID', 'keeperRating', 'opponent', 'bodyPart', 'situation']]\n",
        "    else:\n",
        "      shotsRecapHome = stats['homeShots'][['xg', 'xgPred', 'diff', 'x', 'y', 'minute', 'distance', 'angle', 'goal', 'goalPred', 'player', 'playerID', 'rating', 'team', 'keeper', 'keeperID', 'keeperRating', 'opponent', 'bodyPart', 'situation']]\n",
        "    shotsRecapHome['xg'] = round(shotsRecapHome['xg'], 2)\n",
        "    shotsRecapHome['xgPred'] = round(shotsRecapHome['xgPred'], 2)\n",
        "    shotsRecapHome['diff'] = round(shotsRecapHome['diff'], 2)\n",
        "    shotsRecapHome['diff'] = shotsRecapHome['diff'].abs()\n",
        "\n",
        "\n",
        "    if minute == False:\n",
        "      shotsRecapAway = stats['awayShots'][['xg', 'xgPred', 'diff', 'x', 'y', 'distance', 'angle', 'goal', 'goalPred', 'player', 'playerID', 'rating', 'team', 'keeper', 'keeperID', 'keeperRating', 'opponent', 'bodyPart', 'situation']]\n",
        "    else:\n",
        "      shotsRecapAway = stats['awayShots'][['xg', 'xgPred', 'diff', 'x', 'y', 'minute', 'distance', 'angle', 'goal', 'goalPred', 'player', 'playerID', 'rating', 'team', 'keeper', 'keeperID', 'keeperRating', 'opponent', 'bodyPart', 'situation']]\n",
        "    shotsRecapAway['xg'] = round(shotsRecapAway['xg'], 2)\n",
        "    shotsRecapAway['xgPred'] = round(shotsRecapAway['xgPred'], 2)\n",
        "    shotsRecapAway['diff'] = round(shotsRecapAway['diff'], 2)\n",
        "    shotsRecapAway['diff'] = shotsRecapAway['diff'].abs()\n",
        "\n",
        "    shotsRecap = pd.concat([shotsRecapHome, shotsRecapAway])\n",
        "    shotsRecap['gameIndex'] = i\n",
        "    if (i==0):\n",
        "      shotsRecap.to_csv(basePath + 'models/allShots_' + filename + '.csv', header=True, index=False)\n",
        "    else:\n",
        "      shotsRecap.to_csv(basePath + 'models/allShots_' + filename + '.csv', mode='a', header=False, index=False)\n",
        "    print(str(i) + \", Round \" + str(game['round']) + \": \" + game['home_team'] + \" - \" + game['away_team'])\n",
        "  output.clear()\n",
        "  allShotsDF = pd.read_csv(basePath + 'models/allShots_' + filename + '.csv')\n",
        "  allShotsDF.to_excel(basePath + 'models/allShots_' + filename + '.xlsx')\n",
        "  colNames = ['xg',\t'xgPred',\t'diff',\t'distance',\t'angle',\t'goal', 'goalPred',\t'player',\t'rating',\t'keeper',\t'keeperRating',\t'bodyPart',\t'situation', 'gameIndex']\n",
        "  allShotsDF = pd.read_excel(basePath + 'models/allShots_' + filename + '.xlsx')\n",
        "  shotsNumber = len(allShotsDF)\n",
        "  goalOk = len(allShotsDF.loc[(allShotsDF['goal'] == 1) & (allShotsDF['goalPred'] == 1)])\n",
        "  print(\"Correctly Classified Goals: \" + str(goalOk))\n",
        "  print(\"Correctly Classified Goals Percentage: \" + str(goalOk/3.28) + \"%\")\n",
        "  return shotsNumber"
      ],
      "metadata": {
        "id": "6YNeCAbzJ22p"
      },
      "execution_count": 41,
      "outputs": []
    },
    {
      "cell_type": "markdown",
      "source": [
        "4.4) **Model Evaluation**: This function predicts every game and calculates the sum of predicted xGs, and compares it with the Sofascore sum."
      ],
      "metadata": {
        "id": "HQOb6d1gJ9W0"
      }
    },
    {
      "cell_type": "code",
      "source": [
        "def evaluateModel(model, schedule, filename='model', elo=False, minute=True, home=True):\n",
        "  scheduleDone = schedule.loc[schedule['round'] <= 18]  #last round\n",
        "  leagueStats = []\n",
        "  week = 1\n",
        "  for i in scheduleDone.index:\n",
        "    game = scheduleDone.loc[i]\n",
        "    if(game['round'] != week):\n",
        "      week += 1\n",
        "      output.clear()\n",
        "    print(\"Round \" + str(game['round']) + \": \" + game['home_team'] + \" - \" + game['away_team'])\n",
        "    stats = predictLocalGame(game, model, elo=elo, minute=minute, home=home)\n",
        "    infos = {\n",
        "        \"homeTeam\": game['home_team'],\n",
        "        \"awayTeam\": game['away_team'],\n",
        "    }\n",
        "    homeXg = round(np.sum(stats['homeShots']['xg']), 2)\n",
        "    awayXg = round(np.sum(stats['awayShots']['xg']), 2)\n",
        "    gameStats = {\"homeTeam\": game['home_team'], \"awayTeam\": game['away_team'], \"homeScore\": game['home_score'], \"awayScore\": game['away_score'], \"homeXg\": homeXg, \"awayXg\": awayXg, \"homeXgPred\": np.sum(stats['homeXgPred']), \"awayXgPred\": np.sum(stats['awayXgPred']), \"homePred\": np.sum(stats['homePred']), \"awayPred\": np.sum(stats['awayPred'])}\n",
        "    leagueStats.append(gameStats)\n",
        "\n",
        "  output.clear()\n",
        "  lsDF = pd.DataFrame.from_dict(leagueStats)\n",
        "  lsDF.to_csv(basePath + 'models/leagueStats_' + filename + '.csv')\n",
        "  lsDF = pd.read_csv(basePath + 'models/leagueStats_' + filename + '.csv')\n",
        "  lsDF = lsDF.drop(columns='Unnamed: 0')\n",
        "  lsDF['homeDiff'] = abs(lsDF['homeXgPred']-lsDF['homeXg'])\n",
        "  lsDF['awayDiff'] = abs(lsDF['awayXgPred']-lsDF['awayXg'])\n",
        "  lsDF['totalDiff'] = lsDF['homeDiff']+lsDF['awayDiff']\n",
        "  lsDF['goalDiff'] = abs(lsDF['homePred']-lsDF['homeScore']) + abs(lsDF['awayPred']-lsDF['awayScore'])\n",
        "  lsDF['homeXgPred'] = lsDF['homeXgPred'].round(2)\n",
        "  lsDF['awayXgPred'] = lsDF['awayXgPred'].round(2)\n",
        "  lsDF['homeDiff'] = lsDF['homeDiff'].round(2)\n",
        "  lsDF['awayDiff'] = lsDF['awayDiff'].round(2)\n",
        "  lsDF['totalDiff'] = lsDF['totalDiff'].round(2)\n",
        "  lsDF.to_excel(basePath + 'models/leagueStats_' + filename + '.xlsx')\n",
        "  shotsNumber = getAllShots(model, filename, scheduleDone, elo=elo, minute=minute, home=home)\n",
        "  xgPredMod = np.sum(lsDF['homeXgPred']) + np.sum(lsDF['awayXgPred'])\n",
        "  print(\"Predicted xGs (Model): \" + str(round(xgPredMod, 2)))\n",
        "  xgPrevSof = np.sum(lsDF['homeXg']) + np.sum(lsDF['awayXg'])\n",
        "  print(\"Predicted xGs (Sofascore): \" + str(round(xgPrevSof, 2)))\n",
        "  predGoals = np.sum(lsDF['homePred']) + np.sum(lsDF['awayPred'])\n",
        "  print(\"Predicted Goals (Model): \" + str(predGoals))\n",
        "  actualGoals = np.sum(lsDF['homeScore']) + np.sum(lsDF['awayScore'])\n",
        "  print(\"Actual Goals: \" + str(actualGoals))\n",
        "\n",
        "  numbers = {\n",
        "      \"Model xG\": xgPredMod,\n",
        "      \"Sofascore xG\": xgPrevSof,\n",
        "      \"Predicted Goals\": predGoals,\n",
        "      \"Actual Goals\": actualGoals\n",
        "  }\n",
        "  return numbers"
      ],
      "metadata": {
        "id": "7jXPt-wQJ24g"
      },
      "execution_count": 40,
      "outputs": []
    },
    {
      "cell_type": "code",
      "source": [
        "df = pd.read_csv(basePath + \"seriea_joined_new.csv\")\n",
        "df = df.drop(columns='Unnamed: 0')\n",
        "df = df.drop(columns=['eloTeam', 'eloOpponent'])\n",
        "model, X_train, metrics = getPredictions(df, alg=\"xgb\", elo=False, minute=True, home=True, split=True)\n",
        "joblib.dump(model, basePath + 'modelFiles/' + 'OLD_base_XGB_minute' + '.sav')\n",
        "numbersMinute = evaluateModel(model, schedule, filename='OLD_base_XGB_minute', elo=False, minute=True, home=True)"
      ],
      "metadata": {
        "id": "NfZUWuecLNCM",
        "colab": {
          "base_uri": "https://localhost:8080/"
        },
        "outputId": "a6108d14-645d-41bf-b25d-6beb11fe643b"
      },
      "execution_count": 44,
      "outputs": [
        {
          "output_type": "stream",
          "name": "stdout",
          "text": [
            "Correctly Classified Goals: 79\n",
            "Correctly Classified Goals Percentage: 24.085365853658537%\n",
            "Predicted xGs (Model): 471.85\n",
            "Predicted xGs (Sofascore): 462.47\n",
            "Predicted Goals (Modello): 123\n",
            "actualGoals: 488.0\n"
          ]
        }
      ]
    },
    {
      "cell_type": "markdown",
      "source": [
        "# 5) Model Explanation"
      ],
      "metadata": {
        "id": "YjOZHmgkKyP3"
      }
    },
    {
      "cell_type": "markdown",
      "source": [
        "5.1) **Model Summary Plot**: The *Shapley values* are used to explain the way the model makes its predictions. In the plot used below, the more positive influence a feature has on the model's output, more right it will be in the model (same for a negative influence, on the right). Regarding feature values, the more they get close to blue, the lower they are (same for red, for higher values)."
      ],
      "metadata": {
        "id": "yZ2_CDYgLeSh"
      }
    },
    {
      "cell_type": "code",
      "source": [
        "model, X_train, metrics = getPredictions(df, alg=\"xgb\", elo=False, minute=True, home=True, split=True)  #elo and minute are optional since they were not considered previously\n",
        "joblib.dump(model, basePath + 'modelFiles/' + 'OLD_base_XGB_minute' + '.sav')\n",
        "explainer = shap.Explainer(model, X_train)\n",
        "shapValues = explainer(X_train)\n",
        "shap.summary_plot(shapValues, X_train)"
      ],
      "metadata": {
        "id": "-ak6Uk9sK5OR",
        "colab": {
          "base_uri": "https://localhost:8080/",
          "height": 1000
        },
        "outputId": "da1b83bc-6afd-45c2-a444-a801079f413a"
      },
      "execution_count": 45,
      "outputs": [
        {
          "output_type": "stream",
          "name": "stdout",
          "text": [
            "Accuracy: 0.91\n",
            "AUC: 0.79\n",
            "Precision: 0.72\n",
            "Recall: 0.16\n",
            "F1 Score: 0.26\n",
            "New MCC: 0.31\n"
          ]
        },
        {
          "output_type": "stream",
          "name": "stderr",
          "text": [
            "100%|===================| 15550/15620 [01:15<00:00]       "
          ]
        },
        {
          "output_type": "display_data",
          "data": {
            "text/plain": [
              "<Figure size 800x950 with 2 Axes>"
            ],
            "image/png": "[encoded data removed]"
          },
          "metadata": {}
        }
      ]
    },
    {
      "cell_type": "markdown",
      "source": [
        "5.2) **Explaining Single Shot**: The *bar* plot tries to explain which features influence a single prediction. Features that go to the right influence positively the prediction, while the ones that go to the left influence negatively the prediction."
      ],
      "metadata": {
        "id": "lyNB8qSaL4tt"
      }
    },
    {
      "cell_type": "code",
      "source": [
        "league = \"ITA-Serie A\"\n",
        "season = \"24-25\"\n",
        "sofifaAll = sd.SoFIFA(leagues=league, versions=\"all\")\n",
        "versions = sofifaAll.read_versions()\n",
        "elo = sd.ClubElo()\n",
        "sofa = sd.Sofascore(leagues=league, seasons=season)\n",
        "schedule = sofa.read_schedule()\n",
        "schedule = schedule.droplevel([0,1])\n",
        "schedule = schedule.reset_index()\n",
        "game = schedule.loc[1]\n",
        "\n",
        "df = pd.read_csv(basePath + \"seriea_joined_new.csv\")\n",
        "df = df.drop(columns='Unnamed: 0')\n",
        "df = df.drop(columns=['eloTeam', 'eloOpponent'])\n",
        "\n",
        "\n",
        "model, X_train, metrics = getPredictions(df, alg=\"xgb\", elo=False, minute=True, home=True, split=True)  #elo and minute are optional since they were not considered previously\n",
        "joblib.dump(model, basePath + 'modelFiles/' + 'OLD_base_XGB_minute' + '.sav')\n",
        "stats = predictLocalGame(game, model, elo=False, minute=True, home=True)\n",
        "stats['homeShots']['xg'] = round(stats['homeShots']['xg'], 2)\n",
        "stats['homeShots']['xgPred'] = round(stats['homeShots']['xgPred'], 2)\n",
        "stats['homeShots']['diff'] = round(stats['homeShots']['diff'], 2)\n",
        "stats['awayShots']['xg'] = round(stats['awayShots']['xg'], 2)\n",
        "stats['awayShots']['xgPred'] = round(stats['awayShots']['xgPred'], 2)\n",
        "stats['awayShots']['diff'] = round(stats['awayShots']['diff'], 2)\n",
        "\n",
        "stats['homeShots_clean'] = stats['homeShots_clean'].reset_index()\n",
        "stats['homeShots_clean'] = stats['homeShots_clean'].drop(columns=['index'])\n",
        "shot = stats['homeShots_clean'].loc[2]\n",
        "explainer = shap.Explainer(model, X_train)\n",
        "shapValues = explainer(shot)\n",
        "shap.plots.bar(shapValues)"
      ],
      "metadata": {
        "id": "TFdjE4RCL70u",
        "colab": {
          "base_uri": "https://localhost:8080/",
          "height": 744
        },
        "outputId": "040d5b4e-7e6e-4236-f1e9-452caa4df579"
      },
      "execution_count": 54,
      "outputs": [
        {
          "output_type": "display_data",
          "data": {
            "text/plain": [
              "\u001b[2;36m[01/07/25 18:19:05]\u001b[0m\u001b[2;36m \u001b[0m\u001b[34mINFO    \u001b[0m Saving cached data to \u001b[35m/root/soccerdata/data/\u001b[0m\u001b[95mSoFIFA\u001b[0m                      \u001b]8;id=592864;file:///usr/local/lib/python3.10/dist-packages/soccerdata/_common.py\u001b\\\u001b[2m_common.py\u001b[0m\u001b]8;;\u001b\\\u001b[2m:\u001b[0m\u001b]8;id=588020;file:///usr/local/lib/python3.10/dist-packages/soccerdata/_common.py#263\u001b\\\u001b[2m263\u001b[0m\u001b]8;;\u001b\\\n"
            ],
            "text/html": [
              "<pre style=\"white-space:pre;overflow-x:auto;line-height:normal;font-family:Menlo,'DejaVu Sans Mono',consolas,'Courier New',monospace\"><span style=\"color: #7fbfbf; text-decoration-color: #7fbfbf\">[01/07/25 18:19:05] </span><span style=\"color: #000080; text-decoration-color: #000080\">INFO    </span> Saving cached data to <span style=\"color: #800080; text-decoration-color: #800080\">/root/soccerdata/data/</span><span style=\"color: #ff00ff; text-decoration-color: #ff00ff\">SoFIFA</span>                      <a href=\"file:///usr/local/lib/python3.10/dist-packages/soccerdata/_common.py\" target=\"_blank\"><span style=\"color: #7f7f7f; text-decoration-color: #7f7f7f\">_common.py</span></a><span style=\"color: #7f7f7f; text-decoration-color: #7f7f7f\">:</span><a href=\"file:///usr/local/lib/python3.10/dist-packages/soccerdata/_common.py#263\" target=\"_blank\"><span style=\"color: #7f7f7f; text-decoration-color: #7f7f7f\">263</span></a>\n",
              "</pre>\n"
            ]
          },
          "metadata": {}
        },
        {
          "output_type": "display_data",
          "data": {
            "text/plain": [
              "\u001b[2;36m[01/07/25 18:19:08]\u001b[0m\u001b[2;36m \u001b[0m\u001b[34mINFO    \u001b[0m Saving cached data to \u001b[35m/root/soccerdata/data/\u001b[0m\u001b[95mClubElo\u001b[0m                     \u001b]8;id=103547;file:///usr/local/lib/python3.10/dist-packages/soccerdata/_common.py\u001b\\\u001b[2m_common.py\u001b[0m\u001b]8;;\u001b\\\u001b[2m:\u001b[0m\u001b]8;id=499817;file:///usr/local/lib/python3.10/dist-packages/soccerdata/_common.py#263\u001b\\\u001b[2m263\u001b[0m\u001b]8;;\u001b\\\n"
            ],
            "text/html": [
              "<pre style=\"white-space:pre;overflow-x:auto;line-height:normal;font-family:Menlo,'DejaVu Sans Mono',consolas,'Courier New',monospace\"><span style=\"color: #7fbfbf; text-decoration-color: #7fbfbf\">[01/07/25 18:19:08] </span><span style=\"color: #000080; text-decoration-color: #000080\">INFO    </span> Saving cached data to <span style=\"color: #800080; text-decoration-color: #800080\">/root/soccerdata/data/</span><span style=\"color: #ff00ff; text-decoration-color: #ff00ff\">ClubElo</span>                     <a href=\"file:///usr/local/lib/python3.10/dist-packages/soccerdata/_common.py\" target=\"_blank\"><span style=\"color: #7f7f7f; text-decoration-color: #7f7f7f\">_common.py</span></a><span style=\"color: #7f7f7f; text-decoration-color: #7f7f7f\">:</span><a href=\"file:///usr/local/lib/python3.10/dist-packages/soccerdata/_common.py#263\" target=\"_blank\"><span style=\"color: #7f7f7f; text-decoration-color: #7f7f7f\">263</span></a>\n",
              "</pre>\n"
            ]
          },
          "metadata": {}
        },
        {
          "output_type": "display_data",
          "data": {
            "text/plain": [
              "\u001b[2;36m                   \u001b[0m\u001b[2;36m \u001b[0m\u001b[34mINFO    \u001b[0m Saving cached data to \u001b[35m/root/soccerdata/data/\u001b[0m\u001b[95mSofascore\u001b[0m                   \u001b]8;id=147609;file:///usr/local/lib/python3.10/dist-packages/soccerdata/_common.py\u001b\\\u001b[2m_common.py\u001b[0m\u001b]8;;\u001b\\\u001b[2m:\u001b[0m\u001b]8;id=627438;file:///usr/local/lib/python3.10/dist-packages/soccerdata/_common.py#263\u001b\\\u001b[2m263\u001b[0m\u001b]8;;\u001b\\\n"
            ],
            "text/html": [
              "<pre style=\"white-space:pre;overflow-x:auto;line-height:normal;font-family:Menlo,'DejaVu Sans Mono',consolas,'Courier New',monospace\"><span style=\"color: #7fbfbf; text-decoration-color: #7fbfbf\">                    </span><span style=\"color: #000080; text-decoration-color: #000080\">INFO    </span> Saving cached data to <span style=\"color: #800080; text-decoration-color: #800080\">/root/soccerdata/data/</span><span style=\"color: #ff00ff; text-decoration-color: #ff00ff\">Sofascore</span>                   <a href=\"file:///usr/local/lib/python3.10/dist-packages/soccerdata/_common.py\" target=\"_blank\"><span style=\"color: #7f7f7f; text-decoration-color: #7f7f7f\">_common.py</span></a><span style=\"color: #7f7f7f; text-decoration-color: #7f7f7f\">:</span><a href=\"file:///usr/local/lib/python3.10/dist-packages/soccerdata/_common.py#263\" target=\"_blank\"><span style=\"color: #7f7f7f; text-decoration-color: #7f7f7f\">263</span></a>\n",
              "</pre>\n"
            ]
          },
          "metadata": {}
        },
        {
          "output_type": "stream",
          "name": "stdout",
          "text": [
            "Accuracy: 0.91\n",
            "AUC: 0.79\n",
            "Precision: 0.72\n",
            "Recall: 0.16\n",
            "F1 Score: 0.26\n",
            "New MCC: 0.31\n"
          ]
        },
        {
          "output_type": "display_data",
          "data": {
            "text/plain": [
              "<Figure size 800x650 with 1 Axes>"
            ],
            "image/png": "[encoded data removed]"
          },
          "metadata": {}
        }
      ]
    }
  ]
}